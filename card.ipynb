{
 "cells": [
  {
   "cell_type": "markdown",
   "metadata": {},
   "source": [
    "# Microsoft study case - Prevare u online kupovini"
   ]
  },
  {
   "cell_type": "code",
   "execution_count": 1,
   "metadata": {
    "collapsed": true
   },
   "outputs": [],
   "source": [
    "import pandas as pd\n",
    "import numpy as np\n",
    "from datetime import time\n",
    "import time\n",
    "import matplotlib.pyplot as plt\n",
    "from sklearn.model_selection import train_test_split\n",
    "from sklearn.preprocessing import StandardScaler\n",
    "import seaborn as sns\n",
    "\n",
    "\n",
    "%matplotlib inline\n",
    "\n",
    "data = pd.read_csv('Data/train.csv')\n",
    "test = pd.read_csv('Data/test.csv')\n",
    "zemlje = pd.read_csv('Data/countries.csv')"
   ]
  },
  {
   "cell_type": "code",
   "execution_count": 2,
   "metadata": {},
   "outputs": [
    {
     "data": {
      "text/html": [
       "<div>\n",
       "<style>\n",
       "    .dataframe thead tr:only-child th {\n",
       "        text-align: right;\n",
       "    }\n",
       "\n",
       "    .dataframe thead th {\n",
       "        text-align: left;\n",
       "    }\n",
       "\n",
       "    .dataframe tbody tr th {\n",
       "        vertical-align: top;\n",
       "    }\n",
       "</style>\n",
       "<table border=\"1\" class=\"dataframe\">\n",
       "  <thead>\n",
       "    <tr style=\"text-align: right;\">\n",
       "      <th></th>\n",
       "      <th>user_id</th>\n",
       "      <th>signup_time</th>\n",
       "      <th>purchase_time</th>\n",
       "      <th>purchase_value</th>\n",
       "      <th>device_id</th>\n",
       "      <th>source</th>\n",
       "      <th>browser</th>\n",
       "      <th>sex</th>\n",
       "      <th>age</th>\n",
       "      <th>ip_address</th>\n",
       "      <th>class</th>\n",
       "      <th>country</th>\n",
       "    </tr>\n",
       "  </thead>\n",
       "  <tbody>\n",
       "    <tr>\n",
       "      <th>0</th>\n",
       "      <td>309557</td>\n",
       "      <td>2015-01-01 00:00:43</td>\n",
       "      <td>2015-01-01 00:00:44</td>\n",
       "      <td>14</td>\n",
       "      <td>BBPACGBUVJUXF</td>\n",
       "      <td>Ads</td>\n",
       "      <td>Chrome</td>\n",
       "      <td>F</td>\n",
       "      <td>38</td>\n",
       "      <td>2.001426e+09</td>\n",
       "      <td>1</td>\n",
       "      <td>Korea Republic of</td>\n",
       "    </tr>\n",
       "    <tr>\n",
       "      <th>1</th>\n",
       "      <td>124539</td>\n",
       "      <td>2015-01-01 00:00:44</td>\n",
       "      <td>2015-01-01 00:00:45</td>\n",
       "      <td>14</td>\n",
       "      <td>BBPACGBUVJUXF</td>\n",
       "      <td>Ads</td>\n",
       "      <td>Chrome</td>\n",
       "      <td>F</td>\n",
       "      <td>38</td>\n",
       "      <td>2.001426e+09</td>\n",
       "      <td>1</td>\n",
       "      <td>Korea Republic of</td>\n",
       "    </tr>\n",
       "    <tr>\n",
       "      <th>2</th>\n",
       "      <td>161246</td>\n",
       "      <td>2015-01-01 00:00:45</td>\n",
       "      <td>2015-01-01 00:00:46</td>\n",
       "      <td>14</td>\n",
       "      <td>BBPACGBUVJUXF</td>\n",
       "      <td>Ads</td>\n",
       "      <td>Chrome</td>\n",
       "      <td>F</td>\n",
       "      <td>38</td>\n",
       "      <td>2.001426e+09</td>\n",
       "      <td>1</td>\n",
       "      <td>Korea Republic of</td>\n",
       "    </tr>\n",
       "    <tr>\n",
       "      <th>3</th>\n",
       "      <td>356414</td>\n",
       "      <td>2015-01-01 00:00:46</td>\n",
       "      <td>2015-01-01 00:00:47</td>\n",
       "      <td>14</td>\n",
       "      <td>BBPACGBUVJUXF</td>\n",
       "      <td>Ads</td>\n",
       "      <td>Chrome</td>\n",
       "      <td>F</td>\n",
       "      <td>38</td>\n",
       "      <td>2.001426e+09</td>\n",
       "      <td>1</td>\n",
       "      <td>Korea Republic of</td>\n",
       "    </tr>\n",
       "    <tr>\n",
       "      <th>4</th>\n",
       "      <td>338656</td>\n",
       "      <td>2015-01-01 00:00:47</td>\n",
       "      <td>2015-01-01 00:00:48</td>\n",
       "      <td>14</td>\n",
       "      <td>BBPACGBUVJUXF</td>\n",
       "      <td>Ads</td>\n",
       "      <td>Chrome</td>\n",
       "      <td>F</td>\n",
       "      <td>38</td>\n",
       "      <td>2.001426e+09</td>\n",
       "      <td>1</td>\n",
       "      <td>Korea Republic of</td>\n",
       "    </tr>\n",
       "  </tbody>\n",
       "</table>\n",
       "</div>"
      ],
      "text/plain": [
       "   user_id          signup_time        purchase_time  purchase_value  \\\n",
       "0   309557  2015-01-01 00:00:43  2015-01-01 00:00:44              14   \n",
       "1   124539  2015-01-01 00:00:44  2015-01-01 00:00:45              14   \n",
       "2   161246  2015-01-01 00:00:45  2015-01-01 00:00:46              14   \n",
       "3   356414  2015-01-01 00:00:46  2015-01-01 00:00:47              14   \n",
       "4   338656  2015-01-01 00:00:47  2015-01-01 00:00:48              14   \n",
       "\n",
       "       device_id source browser sex  age    ip_address  class  \\\n",
       "0  BBPACGBUVJUXF    Ads  Chrome   F   38  2.001426e+09      1   \n",
       "1  BBPACGBUVJUXF    Ads  Chrome   F   38  2.001426e+09      1   \n",
       "2  BBPACGBUVJUXF    Ads  Chrome   F   38  2.001426e+09      1   \n",
       "3  BBPACGBUVJUXF    Ads  Chrome   F   38  2.001426e+09      1   \n",
       "4  BBPACGBUVJUXF    Ads  Chrome   F   38  2.001426e+09      1   \n",
       "\n",
       "             country  \n",
       "0  Korea Republic of  \n",
       "1  Korea Republic of  \n",
       "2  Korea Republic of  \n",
       "3  Korea Republic of  \n",
       "4  Korea Republic of  "
      ]
     },
     "execution_count": 2,
     "metadata": {},
     "output_type": "execute_result"
    }
   ],
   "source": [
    "data.head()"
   ]
  },
  {
   "cell_type": "code",
   "execution_count": 3,
   "metadata": {},
   "outputs": [
    {
     "name": "stdout",
     "output_type": "stream",
     "text": [
      "<class 'pandas.core.frame.DataFrame'>\n",
      "RangeIndex: 105778 entries, 0 to 105777\n",
      "Data columns (total 12 columns):\n",
      "user_id           105778 non-null int64\n",
      "signup_time       105778 non-null object\n",
      "purchase_time     105778 non-null object\n",
      "purchase_value    105778 non-null int64\n",
      "device_id         105778 non-null object\n",
      "source            105778 non-null object\n",
      "browser           105778 non-null object\n",
      "sex               105778 non-null object\n",
      "age               105778 non-null int64\n",
      "ip_address        105778 non-null float64\n",
      "class             105778 non-null int64\n",
      "country           90440 non-null object\n",
      "dtypes: float64(1), int64(4), object(7)\n",
      "memory usage: 9.7+ MB\n"
     ]
    }
   ],
   "source": [
    "data.info()"
   ]
  },
  {
   "cell_type": "code",
   "execution_count": 4,
   "metadata": {
    "scrolled": true
   },
   "outputs": [
    {
     "name": "stdout",
     "output_type": "stream",
     "text": [
      "<class 'pandas.core.frame.DataFrame'>\n",
      "RangeIndex: 45334 entries, 0 to 45333\n",
      "Data columns (total 12 columns):\n",
      "user_id           45334 non-null int64\n",
      "signup_time       45334 non-null object\n",
      "purchase_time     45334 non-null object\n",
      "purchase_value    45334 non-null int64\n",
      "device_id         45334 non-null object\n",
      "source            45334 non-null object\n",
      "browser           45334 non-null object\n",
      "sex               45334 non-null object\n",
      "age               45334 non-null int64\n",
      "ip_address        45334 non-null float64\n",
      "class             45334 non-null int64\n",
      "country           38706 non-null object\n",
      "dtypes: float64(1), int64(4), object(7)\n",
      "memory usage: 4.2+ MB\n"
     ]
    }
   ],
   "source": [
    "test.info()"
   ]
  },
  {
   "cell_type": "markdown",
   "metadata": {},
   "source": [
    "### U trening i test setu ima NaN celija, da ih prebrojimo i vidimo o kojim vrednostima se radi"
   ]
  },
  {
   "cell_type": "code",
   "execution_count": 5,
   "metadata": {},
   "outputs": [
    {
     "name": "stdout",
     "output_type": "stream",
     "text": [
      "Train columns with null values:\n",
      " user_id               0\n",
      "signup_time           0\n",
      "purchase_time         0\n",
      "purchase_value        0\n",
      "device_id             0\n",
      "source                0\n",
      "browser               0\n",
      "sex                   0\n",
      "age                   0\n",
      "ip_address            0\n",
      "class                 0\n",
      "country           15338\n",
      "dtype: int64\n",
      "----------\n",
      "Test/Validation columns with null values:\n",
      " user_id              0\n",
      "signup_time          0\n",
      "purchase_time        0\n",
      "purchase_value       0\n",
      "device_id            0\n",
      "source               0\n",
      "browser              0\n",
      "sex                  0\n",
      "age                  0\n",
      "ip_address           0\n",
      "class                0\n",
      "country           6628\n",
      "dtype: int64\n",
      "----------\n"
     ]
    }
   ],
   "source": [
    "print('Train columns with null values:\\n', data.isnull().sum())\n",
    "print(\"-\"*10)\n",
    "print('Test/Validation columns with null values:\\n', test.isnull().sum())\n",
    "print(\"-\"*10)"
   ]
  },
  {
   "cell_type": "code",
   "execution_count": 6,
   "metadata": {
    "scrolled": false
   },
   "outputs": [
    {
     "data": {
      "text/html": [
       "<div>\n",
       "<style>\n",
       "    .dataframe thead tr:only-child th {\n",
       "        text-align: right;\n",
       "    }\n",
       "\n",
       "    .dataframe thead th {\n",
       "        text-align: left;\n",
       "    }\n",
       "\n",
       "    .dataframe tbody tr th {\n",
       "        vertical-align: top;\n",
       "    }\n",
       "</style>\n",
       "<table border=\"1\" class=\"dataframe\">\n",
       "  <thead>\n",
       "    <tr style=\"text-align: right;\">\n",
       "      <th></th>\n",
       "      <th>user_id</th>\n",
       "      <th>signup_time</th>\n",
       "      <th>purchase_time</th>\n",
       "      <th>purchase_value</th>\n",
       "      <th>device_id</th>\n",
       "      <th>source</th>\n",
       "      <th>browser</th>\n",
       "      <th>sex</th>\n",
       "      <th>age</th>\n",
       "      <th>ip_address</th>\n",
       "      <th>class</th>\n",
       "      <th>country</th>\n",
       "    </tr>\n",
       "  </thead>\n",
       "  <tbody>\n",
       "    <tr>\n",
       "      <th>80</th>\n",
       "      <td>24838</td>\n",
       "      <td>2015-01-01 03:58:56</td>\n",
       "      <td>2015-01-01 03:58:57</td>\n",
       "      <td>16</td>\n",
       "      <td>NLTRLNOXWUCCW</td>\n",
       "      <td>Ads</td>\n",
       "      <td>Safari</td>\n",
       "      <td>M</td>\n",
       "      <td>27</td>\n",
       "      <td>3.988529e+09</td>\n",
       "      <td>1</td>\n",
       "      <td>NaN</td>\n",
       "    </tr>\n",
       "    <tr>\n",
       "      <th>81</th>\n",
       "      <td>242755</td>\n",
       "      <td>2015-01-01 03:58:57</td>\n",
       "      <td>2015-01-01 03:58:58</td>\n",
       "      <td>16</td>\n",
       "      <td>NLTRLNOXWUCCW</td>\n",
       "      <td>Ads</td>\n",
       "      <td>Safari</td>\n",
       "      <td>M</td>\n",
       "      <td>27</td>\n",
       "      <td>3.988529e+09</td>\n",
       "      <td>1</td>\n",
       "      <td>NaN</td>\n",
       "    </tr>\n",
       "    <tr>\n",
       "      <th>82</th>\n",
       "      <td>302603</td>\n",
       "      <td>2015-01-01 03:58:58</td>\n",
       "      <td>2015-01-01 03:58:59</td>\n",
       "      <td>16</td>\n",
       "      <td>NLTRLNOXWUCCW</td>\n",
       "      <td>Ads</td>\n",
       "      <td>Safari</td>\n",
       "      <td>M</td>\n",
       "      <td>27</td>\n",
       "      <td>3.988529e+09</td>\n",
       "      <td>1</td>\n",
       "      <td>NaN</td>\n",
       "    </tr>\n",
       "    <tr>\n",
       "      <th>83</th>\n",
       "      <td>391415</td>\n",
       "      <td>2015-01-01 03:58:59</td>\n",
       "      <td>2015-01-01 03:59:00</td>\n",
       "      <td>16</td>\n",
       "      <td>NLTRLNOXWUCCW</td>\n",
       "      <td>Ads</td>\n",
       "      <td>Safari</td>\n",
       "      <td>M</td>\n",
       "      <td>27</td>\n",
       "      <td>3.988529e+09</td>\n",
       "      <td>1</td>\n",
       "      <td>NaN</td>\n",
       "    </tr>\n",
       "    <tr>\n",
       "      <th>84</th>\n",
       "      <td>289545</td>\n",
       "      <td>2015-01-01 03:59:00</td>\n",
       "      <td>2015-01-01 03:59:01</td>\n",
       "      <td>16</td>\n",
       "      <td>NLTRLNOXWUCCW</td>\n",
       "      <td>Ads</td>\n",
       "      <td>Safari</td>\n",
       "      <td>M</td>\n",
       "      <td>27</td>\n",
       "      <td>3.988529e+09</td>\n",
       "      <td>1</td>\n",
       "      <td>NaN</td>\n",
       "    </tr>\n",
       "  </tbody>\n",
       "</table>\n",
       "</div>"
      ],
      "text/plain": [
       "    user_id          signup_time        purchase_time  purchase_value  \\\n",
       "80    24838  2015-01-01 03:58:56  2015-01-01 03:58:57              16   \n",
       "81   242755  2015-01-01 03:58:57  2015-01-01 03:58:58              16   \n",
       "82   302603  2015-01-01 03:58:58  2015-01-01 03:58:59              16   \n",
       "83   391415  2015-01-01 03:58:59  2015-01-01 03:59:00              16   \n",
       "84   289545  2015-01-01 03:59:00  2015-01-01 03:59:01              16   \n",
       "\n",
       "        device_id source browser sex  age    ip_address  class country  \n",
       "80  NLTRLNOXWUCCW    Ads  Safari   M   27  3.988529e+09      1     NaN  \n",
       "81  NLTRLNOXWUCCW    Ads  Safari   M   27  3.988529e+09      1     NaN  \n",
       "82  NLTRLNOXWUCCW    Ads  Safari   M   27  3.988529e+09      1     NaN  \n",
       "83  NLTRLNOXWUCCW    Ads  Safari   M   27  3.988529e+09      1     NaN  \n",
       "84  NLTRLNOXWUCCW    Ads  Safari   M   27  3.988529e+09      1     NaN  "
      ]
     },
     "execution_count": 6,
     "metadata": {},
     "output_type": "execute_result"
    }
   ],
   "source": [
    "data[data.isnull().any(axis=1)].head(5)"
   ]
  },
  {
   "cell_type": "markdown",
   "metadata": {},
   "source": [
    "### Moguce da nepoznata zemlja na neki nacin utice na rezultat pa uvodimo kategoriju zemlje 'Unknown'"
   ]
  },
  {
   "cell_type": "code",
   "execution_count": 7,
   "metadata": {
    "collapsed": true
   },
   "outputs": [],
   "source": [
    "data = data.fillna({\"country\": \"Unknown\"})"
   ]
  },
  {
   "cell_type": "markdown",
   "metadata": {},
   "source": [
    "Kolone **signup_time** i **purchase_time** cemo ubaciti u jednu koja definise vreme trajanja transakcije u satima"
   ]
  },
  {
   "cell_type": "code",
   "execution_count": 8,
   "metadata": {
    "collapsed": true
   },
   "outputs": [],
   "source": [
    "data['Dt'] = (pd.to_datetime(data['purchase_time']) - pd.to_datetime(data['signup_time'])).astype('timedelta64[h]')"
   ]
  },
  {
   "cell_type": "code",
   "execution_count": 9,
   "metadata": {},
   "outputs": [
    {
     "data": {
      "text/html": [
       "<div>\n",
       "<style>\n",
       "    .dataframe thead tr:only-child th {\n",
       "        text-align: right;\n",
       "    }\n",
       "\n",
       "    .dataframe thead th {\n",
       "        text-align: left;\n",
       "    }\n",
       "\n",
       "    .dataframe tbody tr th {\n",
       "        vertical-align: top;\n",
       "    }\n",
       "</style>\n",
       "<table border=\"1\" class=\"dataframe\">\n",
       "  <thead>\n",
       "    <tr style=\"text-align: right;\">\n",
       "      <th></th>\n",
       "      <th>user_id</th>\n",
       "      <th>signup_time</th>\n",
       "      <th>purchase_time</th>\n",
       "      <th>purchase_value</th>\n",
       "      <th>device_id</th>\n",
       "      <th>source</th>\n",
       "      <th>browser</th>\n",
       "      <th>sex</th>\n",
       "      <th>age</th>\n",
       "      <th>ip_address</th>\n",
       "      <th>class</th>\n",
       "      <th>country</th>\n",
       "      <th>Dt</th>\n",
       "    </tr>\n",
       "  </thead>\n",
       "  <tbody>\n",
       "    <tr>\n",
       "      <th>0</th>\n",
       "      <td>309557</td>\n",
       "      <td>2015-01-01 00:00:43</td>\n",
       "      <td>2015-01-01 00:00:44</td>\n",
       "      <td>14</td>\n",
       "      <td>BBPACGBUVJUXF</td>\n",
       "      <td>Ads</td>\n",
       "      <td>Chrome</td>\n",
       "      <td>F</td>\n",
       "      <td>38</td>\n",
       "      <td>2.001426e+09</td>\n",
       "      <td>1</td>\n",
       "      <td>Korea Republic of</td>\n",
       "      <td>0.0</td>\n",
       "    </tr>\n",
       "    <tr>\n",
       "      <th>1</th>\n",
       "      <td>124539</td>\n",
       "      <td>2015-01-01 00:00:44</td>\n",
       "      <td>2015-01-01 00:00:45</td>\n",
       "      <td>14</td>\n",
       "      <td>BBPACGBUVJUXF</td>\n",
       "      <td>Ads</td>\n",
       "      <td>Chrome</td>\n",
       "      <td>F</td>\n",
       "      <td>38</td>\n",
       "      <td>2.001426e+09</td>\n",
       "      <td>1</td>\n",
       "      <td>Korea Republic of</td>\n",
       "      <td>0.0</td>\n",
       "    </tr>\n",
       "    <tr>\n",
       "      <th>2</th>\n",
       "      <td>161246</td>\n",
       "      <td>2015-01-01 00:00:45</td>\n",
       "      <td>2015-01-01 00:00:46</td>\n",
       "      <td>14</td>\n",
       "      <td>BBPACGBUVJUXF</td>\n",
       "      <td>Ads</td>\n",
       "      <td>Chrome</td>\n",
       "      <td>F</td>\n",
       "      <td>38</td>\n",
       "      <td>2.001426e+09</td>\n",
       "      <td>1</td>\n",
       "      <td>Korea Republic of</td>\n",
       "      <td>0.0</td>\n",
       "    </tr>\n",
       "    <tr>\n",
       "      <th>3</th>\n",
       "      <td>356414</td>\n",
       "      <td>2015-01-01 00:00:46</td>\n",
       "      <td>2015-01-01 00:00:47</td>\n",
       "      <td>14</td>\n",
       "      <td>BBPACGBUVJUXF</td>\n",
       "      <td>Ads</td>\n",
       "      <td>Chrome</td>\n",
       "      <td>F</td>\n",
       "      <td>38</td>\n",
       "      <td>2.001426e+09</td>\n",
       "      <td>1</td>\n",
       "      <td>Korea Republic of</td>\n",
       "      <td>0.0</td>\n",
       "    </tr>\n",
       "    <tr>\n",
       "      <th>4</th>\n",
       "      <td>338656</td>\n",
       "      <td>2015-01-01 00:00:47</td>\n",
       "      <td>2015-01-01 00:00:48</td>\n",
       "      <td>14</td>\n",
       "      <td>BBPACGBUVJUXF</td>\n",
       "      <td>Ads</td>\n",
       "      <td>Chrome</td>\n",
       "      <td>F</td>\n",
       "      <td>38</td>\n",
       "      <td>2.001426e+09</td>\n",
       "      <td>1</td>\n",
       "      <td>Korea Republic of</td>\n",
       "      <td>0.0</td>\n",
       "    </tr>\n",
       "  </tbody>\n",
       "</table>\n",
       "</div>"
      ],
      "text/plain": [
       "   user_id          signup_time        purchase_time  purchase_value  \\\n",
       "0   309557  2015-01-01 00:00:43  2015-01-01 00:00:44              14   \n",
       "1   124539  2015-01-01 00:00:44  2015-01-01 00:00:45              14   \n",
       "2   161246  2015-01-01 00:00:45  2015-01-01 00:00:46              14   \n",
       "3   356414  2015-01-01 00:00:46  2015-01-01 00:00:47              14   \n",
       "4   338656  2015-01-01 00:00:47  2015-01-01 00:00:48              14   \n",
       "\n",
       "       device_id source browser sex  age    ip_address  class  \\\n",
       "0  BBPACGBUVJUXF    Ads  Chrome   F   38  2.001426e+09      1   \n",
       "1  BBPACGBUVJUXF    Ads  Chrome   F   38  2.001426e+09      1   \n",
       "2  BBPACGBUVJUXF    Ads  Chrome   F   38  2.001426e+09      1   \n",
       "3  BBPACGBUVJUXF    Ads  Chrome   F   38  2.001426e+09      1   \n",
       "4  BBPACGBUVJUXF    Ads  Chrome   F   38  2.001426e+09      1   \n",
       "\n",
       "             country   Dt  \n",
       "0  Korea Republic of  0.0  \n",
       "1  Korea Republic of  0.0  \n",
       "2  Korea Republic of  0.0  \n",
       "3  Korea Republic of  0.0  \n",
       "4  Korea Republic of  0.0  "
      ]
     },
     "execution_count": 9,
     "metadata": {},
     "output_type": "execute_result"
    }
   ],
   "source": [
    "data.head()"
   ]
  },
  {
   "cell_type": "code",
   "execution_count": 10,
   "metadata": {
    "collapsed": true
   },
   "outputs": [],
   "source": [
    "data['signup_time'] = pd.to_datetime(data['signup_time'])"
   ]
  },
  {
   "cell_type": "code",
   "execution_count": 11,
   "metadata": {},
   "outputs": [
    {
     "data": {
      "text/html": [
       "<div>\n",
       "<style>\n",
       "    .dataframe thead tr:only-child th {\n",
       "        text-align: right;\n",
       "    }\n",
       "\n",
       "    .dataframe thead th {\n",
       "        text-align: left;\n",
       "    }\n",
       "\n",
       "    .dataframe tbody tr th {\n",
       "        vertical-align: top;\n",
       "    }\n",
       "</style>\n",
       "<table border=\"1\" class=\"dataframe\">\n",
       "  <thead>\n",
       "    <tr style=\"text-align: right;\">\n",
       "      <th></th>\n",
       "      <th>user_id</th>\n",
       "      <th>signup_time</th>\n",
       "      <th>purchase_time</th>\n",
       "      <th>purchase_value</th>\n",
       "      <th>device_id</th>\n",
       "      <th>source</th>\n",
       "      <th>browser</th>\n",
       "      <th>sex</th>\n",
       "      <th>age</th>\n",
       "      <th>ip_address</th>\n",
       "      <th>class</th>\n",
       "      <th>country</th>\n",
       "      <th>Dt</th>\n",
       "    </tr>\n",
       "  </thead>\n",
       "  <tbody>\n",
       "    <tr>\n",
       "      <th>0</th>\n",
       "      <td>309557</td>\n",
       "      <td>2015-01-01 00:00:43</td>\n",
       "      <td>2015-01-01 00:00:44</td>\n",
       "      <td>14</td>\n",
       "      <td>BBPACGBUVJUXF</td>\n",
       "      <td>Ads</td>\n",
       "      <td>Chrome</td>\n",
       "      <td>F</td>\n",
       "      <td>38</td>\n",
       "      <td>2.001426e+09</td>\n",
       "      <td>1</td>\n",
       "      <td>Korea Republic of</td>\n",
       "      <td>0.0</td>\n",
       "    </tr>\n",
       "    <tr>\n",
       "      <th>1</th>\n",
       "      <td>124539</td>\n",
       "      <td>2015-01-01 00:00:44</td>\n",
       "      <td>2015-01-01 00:00:45</td>\n",
       "      <td>14</td>\n",
       "      <td>BBPACGBUVJUXF</td>\n",
       "      <td>Ads</td>\n",
       "      <td>Chrome</td>\n",
       "      <td>F</td>\n",
       "      <td>38</td>\n",
       "      <td>2.001426e+09</td>\n",
       "      <td>1</td>\n",
       "      <td>Korea Republic of</td>\n",
       "      <td>0.0</td>\n",
       "    </tr>\n",
       "    <tr>\n",
       "      <th>2</th>\n",
       "      <td>161246</td>\n",
       "      <td>2015-01-01 00:00:45</td>\n",
       "      <td>2015-01-01 00:00:46</td>\n",
       "      <td>14</td>\n",
       "      <td>BBPACGBUVJUXF</td>\n",
       "      <td>Ads</td>\n",
       "      <td>Chrome</td>\n",
       "      <td>F</td>\n",
       "      <td>38</td>\n",
       "      <td>2.001426e+09</td>\n",
       "      <td>1</td>\n",
       "      <td>Korea Republic of</td>\n",
       "      <td>0.0</td>\n",
       "    </tr>\n",
       "  </tbody>\n",
       "</table>\n",
       "</div>"
      ],
      "text/plain": [
       "   user_id         signup_time        purchase_time  purchase_value  \\\n",
       "0   309557 2015-01-01 00:00:43  2015-01-01 00:00:44              14   \n",
       "1   124539 2015-01-01 00:00:44  2015-01-01 00:00:45              14   \n",
       "2   161246 2015-01-01 00:00:45  2015-01-01 00:00:46              14   \n",
       "\n",
       "       device_id source browser sex  age    ip_address  class  \\\n",
       "0  BBPACGBUVJUXF    Ads  Chrome   F   38  2.001426e+09      1   \n",
       "1  BBPACGBUVJUXF    Ads  Chrome   F   38  2.001426e+09      1   \n",
       "2  BBPACGBUVJUXF    Ads  Chrome   F   38  2.001426e+09      1   \n",
       "\n",
       "             country   Dt  \n",
       "0  Korea Republic of  0.0  \n",
       "1  Korea Republic of  0.0  \n",
       "2  Korea Republic of  0.0  "
      ]
     },
     "execution_count": 11,
     "metadata": {},
     "output_type": "execute_result"
    }
   ],
   "source": [
    "data.head(3)"
   ]
  },
  {
   "cell_type": "code",
   "execution_count": 12,
   "metadata": {},
   "outputs": [
    {
     "name": "stdout",
     "output_type": "stream",
     "text": [
      "Procenat ispravnih:\n",
      " 88.58269205316796  %\n",
      "Procenat fraud:\n",
      " 11.417307946832045  %\n"
     ]
    }
   ],
   "source": [
    "print('Procenat ispravnih:\\n', len(data[data['class']==0])/len(data)*100, ' %')\n",
    "print('Procenat fraud:\\n', len(data[data['class']==1])/len(data)*100, ' %')"
   ]
  },
  {
   "cell_type": "code",
   "execution_count": 13,
   "metadata": {},
   "outputs": [
    {
     "data": {
      "text/plain": [
       "<matplotlib.axes._subplots.AxesSubplot at 0x7f1549067438>"
      ]
     },
     "execution_count": 13,
     "metadata": {},
     "output_type": "execute_result"
    },
    {
     "data": {
      "image/png": "[encoded data removed]",
      "text/plain": [
       "<matplotlib.figure.Figure at 0x7f1549067240>"
      ]
     },
     "metadata": {},
     "output_type": "display_data"
    }
   ],
   "source": [
    "sns.distplot(data['Dt'])"
   ]
  },
  {
   "cell_type": "code",
   "execution_count": 14,
   "metadata": {
    "collapsed": true
   },
   "outputs": [],
   "source": [
    "test['Dt'] = (pd.to_datetime(test['purchase_time']) - pd.to_datetime(test['signup_time'])).astype('timedelta64[h]')"
   ]
  },
  {
   "cell_type": "code",
   "execution_count": 15,
   "metadata": {},
   "outputs": [
    {
     "data": {
      "text/plain": [
       "<matplotlib.axes._subplots.AxesSubplot at 0x7f1549067e80>"
      ]
     },
     "execution_count": 15,
     "metadata": {},
     "output_type": "execute_result"
    },
    {
     "data": {
      "image/png": "[encoded data removed]",
      "text/plain": [
       "<matplotlib.figure.Figure at 0x7f1547a097b8>"
      ]
     },
     "metadata": {},
     "output_type": "display_data"
    }
   ],
   "source": [
    "sns.distplot(test['Dt'])"
   ]
  },
  {
   "cell_type": "markdown",
   "metadata": {},
   "source": [
    "### U test podacima postoji samo jedno Dt=0.0. Ovo su neki cudni podaci u uzorku za ucenje, postoje samo na pocetku i posle ih vise nema, izbacujemo ove vrednosti pa gledamo da li se promenila korelacija"
   ]
  },
  {
   "cell_type": "code",
   "execution_count": 16,
   "metadata": {
    "collapsed": true
   },
   "outputs": [],
   "source": [
    "data_n = data.drop((data[data['Dt'] == 0.0]).index,0)"
   ]
  },
  {
   "cell_type": "code",
   "execution_count": 17,
   "metadata": {},
   "outputs": [
    {
     "data": {
      "text/plain": [
       "<matplotlib.axes._subplots.AxesSubplot at 0x7f1547983588>"
      ]
     },
     "execution_count": 17,
     "metadata": {},
     "output_type": "execute_result"
    },
    {
     "data": {
      "image/png": "[encoded data removed]",
      "text/plain": [
       "<matplotlib.figure.Figure at 0x7f1547a1e518>"
      ]
     },
     "metadata": {},
     "output_type": "display_data"
    }
   ],
   "source": [
    "sns.distplot(data_n['Dt'])"
   ]
  },
  {
   "cell_type": "markdown",
   "metadata": {},
   "source": [
    "### Da! Prevare jesu bile u ogromnom procentu za Dt=0.0, ali  ovih slucajeva nema u test setu, kad smo ih izbacili korelacija vise ne postoji, ne postoji vise ni ona mala kod 'age'"
   ]
  },
  {
   "cell_type": "code",
   "execution_count": 18,
   "metadata": {},
   "outputs": [
    {
     "data": {
      "text/plain": [
       "<matplotlib.axes._subplots.AxesSubplot at 0x7f1544686320>"
      ]
     },
     "execution_count": 18,
     "metadata": {},
     "output_type": "execute_result"
    },
    {
     "data": {
      "image/png": "[encoded data removed]",
      "text/plain": [
       "<matplotlib.figure.Figure at 0x7f1544b5c0f0>"
      ]
     },
     "metadata": {},
     "output_type": "display_data"
    }
   ],
   "source": [
    "sns.distplot(data_n['age'])"
   ]
  },
  {
   "cell_type": "code",
   "execution_count": 19,
   "metadata": {},
   "outputs": [
    {
     "data": {
      "text/plain": [
       "<matplotlib.axes._subplots.AxesSubplot at 0x7f154461b438>"
      ]
     },
     "execution_count": 19,
     "metadata": {},
     "output_type": "execute_result"
    },
    {
     "data": {
      "image/png": "[encoded data removed]",
      "text/plain": [
       "<matplotlib.figure.Figure at 0x7f15479d5320>"
      ]
     },
     "metadata": {},
     "output_type": "display_data"
    }
   ],
   "source": [
    "#scatter plot GrLivArea vs SalePrice\n",
    "var = 'GrLivArea'\n",
    "data.plot.scatter(x='age', y='class', ylim=(0,1.2))"
   ]
  },
  {
   "cell_type": "code",
   "execution_count": 20,
   "metadata": {},
   "outputs": [
    {
     "data": {
      "text/plain": [
       "<matplotlib.axes._subplots.AxesSubplot at 0x7f1544557470>"
      ]
     },
     "execution_count": 20,
     "metadata": {},
     "output_type": "execute_result"
    },
    {
     "data": {
      "image/png": "[encoded data removed]",
      "text/plain": [
       "<matplotlib.figure.Figure at 0x7f154456f7b8>"
      ]
     },
     "metadata": {},
     "output_type": "display_data"
    }
   ],
   "source": [
    "var = 'Vreme'\n",
    "data_n.plot.scatter(x='age', y='Dt')"
   ]
  },
  {
   "cell_type": "markdown",
   "metadata": {},
   "source": [
    "### Okrecemo se zemljama, prebacujemo svaku zemlju u broj na osnovu fajla countries.csv pa da vidimo ima li neke korelacije"
   ]
  },
  {
   "cell_type": "code",
   "execution_count": 21,
   "metadata": {
    "collapsed": true
   },
   "outputs": [],
   "source": [
    "zemlje = pd.read_csv('Data/countries.csv')"
   ]
  },
  {
   "cell_type": "code",
   "execution_count": 22,
   "metadata": {},
   "outputs": [
    {
     "data": {
      "text/html": [
       "<div>\n",
       "<style>\n",
       "    .dataframe thead tr:only-child th {\n",
       "        text-align: right;\n",
       "    }\n",
       "\n",
       "    .dataframe thead th {\n",
       "        text-align: left;\n",
       "    }\n",
       "\n",
       "    .dataframe tbody tr th {\n",
       "        vertical-align: top;\n",
       "    }\n",
       "</style>\n",
       "<table border=\"1\" class=\"dataframe\">\n",
       "  <thead>\n",
       "    <tr style=\"text-align: right;\">\n",
       "      <th></th>\n",
       "      <th>country</th>\n",
       "    </tr>\n",
       "  </thead>\n",
       "  <tbody>\n",
       "    <tr>\n",
       "      <th>0</th>\n",
       "      <td>Unknown</td>\n",
       "    </tr>\n",
       "    <tr>\n",
       "      <th>1</th>\n",
       "      <td>Japan</td>\n",
       "    </tr>\n",
       "    <tr>\n",
       "      <th>2</th>\n",
       "      <td>United States</td>\n",
       "    </tr>\n",
       "    <tr>\n",
       "      <th>3</th>\n",
       "      <td>Canada</td>\n",
       "    </tr>\n",
       "    <tr>\n",
       "      <th>4</th>\n",
       "      <td>China</td>\n",
       "    </tr>\n",
       "  </tbody>\n",
       "</table>\n",
       "</div>"
      ],
      "text/plain": [
       "         country\n",
       "0        Unknown\n",
       "1          Japan\n",
       "2  United States\n",
       "3         Canada\n",
       "4          China"
      ]
     },
     "execution_count": 22,
     "metadata": {},
     "output_type": "execute_result"
    }
   ],
   "source": [
    "zemlje.head()"
   ]
  },
  {
   "cell_type": "code",
   "execution_count": 23,
   "metadata": {
    "collapsed": true
   },
   "outputs": [],
   "source": [
    "my_dict = {}\n",
    "count = -1\n",
    "f =  open(\"Data/countries.csv\", 'r')\n",
    "for line in f:\n",
    "    if count>-1:\n",
    "        key, values = line.rstrip(), count\n",
    "        my_dict[key] = values\n",
    "    count = count + 1"
   ]
  },
  {
   "cell_type": "code",
   "execution_count": 24,
   "metadata": {},
   "outputs": [
    {
     "data": {
      "text/plain": [
       "{'Afghanistan': 160,\n",
       " 'Albania': 86,\n",
       " 'Algeria': 68,\n",
       " 'Angola': 129,\n",
       " 'Antigua and Barbuda': 156,\n",
       " 'Argentina': 7,\n",
       " 'Armenia': 118,\n",
       " 'Australia': 33,\n",
       " 'Austria': 35,\n",
       " 'Azerbaijan': 125,\n",
       " 'Bahamas': 168,\n",
       " 'Bahrain': 124,\n",
       " 'Bangladesh': 16,\n",
       " 'Barbados': 93,\n",
       " 'Belarus': 115,\n",
       " 'Belgium': 20,\n",
       " 'Belize': 107,\n",
       " 'Benin': 173,\n",
       " 'Bermuda': 162,\n",
       " 'Bhutan': 161,\n",
       " 'Bolivia': 62,\n",
       " 'Bonaire; Sint Eustatius; Saba': 170,\n",
       " 'Bosnia and Herzegowina': 112,\n",
       " 'Botswana': 143,\n",
       " 'Brazil': 5,\n",
       " 'British Indian Ocean Territory': 167,\n",
       " 'Brunei Darussalam': 139,\n",
       " 'Bulgaria': 63,\n",
       " 'Burkina Faso': 145,\n",
       " 'Burundi': 179,\n",
       " 'Cambodia': 106,\n",
       " 'Cameroon': 135,\n",
       " 'Canada': 3,\n",
       " 'Cape Verde': 174,\n",
       " 'Cayman Islands': 154,\n",
       " 'Chile': 44,\n",
       " 'China': 4,\n",
       " 'Colombia': 49,\n",
       " 'Congo': 128,\n",
       " 'Congo The Democratic Republic of The': 153,\n",
       " 'Costa Rica': 83,\n",
       " \"Cote D'ivoire\": 116,\n",
       " 'Croatia (LOCAL Name: Hrvatska)': 65,\n",
       " 'Cuba': 84,\n",
       " 'Curacao': 163,\n",
       " 'Cyprus': 66,\n",
       " 'Czech Republic': 67,\n",
       " 'Denmark': 21,\n",
       " 'Djibouti': 117,\n",
       " 'Dominica': 144,\n",
       " 'Dominican Republic': 75,\n",
       " 'Ecuador': 50,\n",
       " 'Egypt': 55,\n",
       " 'El Salvador': 111,\n",
       " 'Estonia': 79,\n",
       " 'Ethiopia': 164,\n",
       " 'European Union': 32,\n",
       " 'Faroe Islands': 149,\n",
       " 'Fiji': 158,\n",
       " 'Finland': 46,\n",
       " 'France': 17,\n",
       " 'Gabon': 25,\n",
       " 'Gambia': 172,\n",
       " 'Georgia': 28,\n",
       " 'Germany': 10,\n",
       " 'Ghana': 100,\n",
       " 'Gibraltar': 134,\n",
       " 'Greece': 38,\n",
       " 'Guadeloupe': 181,\n",
       " 'Guam': 71,\n",
       " 'Guatemala': 99,\n",
       " 'Haiti': 132,\n",
       " 'Honduras': 151,\n",
       " 'Hong Kong': 27,\n",
       " 'Hungary': 47,\n",
       " 'Iceland': 94,\n",
       " 'India': 6,\n",
       " 'Indonesia': 48,\n",
       " 'Iran (ISLAMIC Republic Of)': 23,\n",
       " 'Iraq': 110,\n",
       " 'Ireland': 85,\n",
       " 'Israel': 36,\n",
       " 'Italy': 39,\n",
       " 'Jamaica': 131,\n",
       " 'Japan': 1,\n",
       " 'Jordan': 123,\n",
       " 'Kazakhstan': 57,\n",
       " 'Kenya': 58,\n",
       " 'Korea Republic of': 13,\n",
       " 'Kuwait': 96,\n",
       " 'Kyrgyzstan': 69,\n",
       " \"Lao People's Democratic Republic\": 166,\n",
       " 'Latvia': 101,\n",
       " 'Lebanon': 89,\n",
       " 'Lesotho': 157,\n",
       " 'Libyan Arab Jamahiriya': 105,\n",
       " 'Liechtenstein': 171,\n",
       " 'Lithuania': 51,\n",
       " 'Luxembourg': 114,\n",
       " 'Macau': 147,\n",
       " 'Macedonia': 82,\n",
       " 'Madagascar': 169,\n",
       " 'Malawi': 102,\n",
       " 'Malaysia': 37,\n",
       " 'Maldives': 91,\n",
       " 'Malta': 77,\n",
       " 'Mauritius': 108,\n",
       " 'Mexico': 11,\n",
       " 'Moldova Republic of': 59,\n",
       " 'Monaco': 152,\n",
       " 'Mongolia': 159,\n",
       " 'Montenegro': 146,\n",
       " 'Morocco': 45,\n",
       " 'Mozambique': 80,\n",
       " 'Myanmar': 137,\n",
       " 'Namibia': 81,\n",
       " 'Nauru': 180,\n",
       " 'Nepal': 138,\n",
       " 'Netherlands': 22,\n",
       " 'New Caledonia': 98,\n",
       " 'New Zealand': 31,\n",
       " 'Nicaragua': 78,\n",
       " 'Niger': 155,\n",
       " 'Nigeria': 54,\n",
       " 'Norway': 40,\n",
       " 'Oman': 87,\n",
       " 'Pakistan': 76,\n",
       " 'Palestinian Territory Occupied': 136,\n",
       " 'Panama': 97,\n",
       " 'Papua New Guinea': 133,\n",
       " 'Paraguay': 73,\n",
       " 'Peru': 14,\n",
       " 'Philippines': 95,\n",
       " 'Poland': 41,\n",
       " 'Portugal': 15,\n",
       " 'Puerto Rico': 90,\n",
       " 'Qatar': 61,\n",
       " 'Reunion': 142,\n",
       " 'Romania': 64,\n",
       " 'Russian Federation': 19,\n",
       " 'Rwanda': 121,\n",
       " 'Saint Kitts and Nevis': 141,\n",
       " 'Saint Martin': 176,\n",
       " 'San Marino': 178,\n",
       " 'Saudi Arabia': 26,\n",
       " 'Senegal': 104,\n",
       " 'Serbia': 113,\n",
       " 'Seychelles': 56,\n",
       " 'Singapore': 70,\n",
       " 'Slovakia (SLOVAK Republic)': 109,\n",
       " 'Slovenia': 103,\n",
       " 'South Africa': 9,\n",
       " 'South Sudan': 126,\n",
       " 'Spain': 24,\n",
       " 'Sri Lanka': 119,\n",
       " 'Sudan': 120,\n",
       " 'Sweden': 12,\n",
       " 'Switzerland': 52,\n",
       " 'Syrian Arab Republic': 29,\n",
       " 'Taiwan; Republic of China (ROC)': 18,\n",
       " 'Tajikistan': 175,\n",
       " 'Tanzania United Republic of': 148,\n",
       " 'Thailand': 43,\n",
       " 'Trinidad and Tobago': 60,\n",
       " 'Tunisia': 74,\n",
       " 'Turkey': 30,\n",
       " 'Turkmenistan': 92,\n",
       " 'Uganda': 130,\n",
       " 'Ukraine': 34,\n",
       " 'United Arab Emirates': 72,\n",
       " 'United Kingdom': 8,\n",
       " 'United States': 2,\n",
       " 'Unknown': 0,\n",
       " 'Uruguay': 88,\n",
       " 'Uzbekistan': 122,\n",
       " 'Vanuatu': 165,\n",
       " 'Venezuela': 42,\n",
       " 'Viet Nam': 53,\n",
       " 'Virgin Islands (U.S.)': 127,\n",
       " 'Yemen': 177,\n",
       " 'Zambia': 140,\n",
       " 'Zimbabwe': 150}"
      ]
     },
     "execution_count": 24,
     "metadata": {},
     "output_type": "execute_result"
    }
   ],
   "source": [
    "my_dict"
   ]
  },
  {
   "cell_type": "code",
   "execution_count": 25,
   "metadata": {
    "collapsed": true
   },
   "outputs": [],
   "source": [
    "cleanup_nums = {\"country\": my_dict}\n",
    "data_n.replace(cleanup_nums, inplace=True)"
   ]
  },
  {
   "cell_type": "code",
   "execution_count": 26,
   "metadata": {
    "scrolled": true
   },
   "outputs": [
    {
     "data": {
      "text/html": [
       "<div>\n",
       "<style>\n",
       "    .dataframe thead tr:only-child th {\n",
       "        text-align: right;\n",
       "    }\n",
       "\n",
       "    .dataframe thead th {\n",
       "        text-align: left;\n",
       "    }\n",
       "\n",
       "    .dataframe tbody tr th {\n",
       "        vertical-align: top;\n",
       "    }\n",
       "</style>\n",
       "<table border=\"1\" class=\"dataframe\">\n",
       "  <thead>\n",
       "    <tr style=\"text-align: right;\">\n",
       "      <th></th>\n",
       "      <th>user_id</th>\n",
       "      <th>signup_time</th>\n",
       "      <th>purchase_time</th>\n",
       "      <th>purchase_value</th>\n",
       "      <th>device_id</th>\n",
       "      <th>source</th>\n",
       "      <th>browser</th>\n",
       "      <th>sex</th>\n",
       "      <th>age</th>\n",
       "      <th>ip_address</th>\n",
       "      <th>class</th>\n",
       "      <th>country</th>\n",
       "      <th>Dt</th>\n",
       "    </tr>\n",
       "  </thead>\n",
       "  <tbody>\n",
       "    <tr>\n",
       "      <th>378</th>\n",
       "      <td>58397</td>\n",
       "      <td>2015-01-01 03:04:18</td>\n",
       "      <td>2015-01-01 15:26:23</td>\n",
       "      <td>37</td>\n",
       "      <td>YICCDRLMZHPSM</td>\n",
       "      <td>Ads</td>\n",
       "      <td>Safari</td>\n",
       "      <td>M</td>\n",
       "      <td>30</td>\n",
       "      <td>3.686620e+09</td>\n",
       "      <td>0</td>\n",
       "      <td>1</td>\n",
       "      <td>12.0</td>\n",
       "    </tr>\n",
       "    <tr>\n",
       "      <th>713</th>\n",
       "      <td>326217</td>\n",
       "      <td>2015-01-01 13:53:34</td>\n",
       "      <td>2015-01-02 04:45:11</td>\n",
       "      <td>11</td>\n",
       "      <td>KBEAMBIXFHTQG</td>\n",
       "      <td>Direct</td>\n",
       "      <td>FireFox</td>\n",
       "      <td>F</td>\n",
       "      <td>29</td>\n",
       "      <td>2.068289e+09</td>\n",
       "      <td>0</td>\n",
       "      <td>4</td>\n",
       "      <td>14.0</td>\n",
       "    </tr>\n",
       "    <tr>\n",
       "      <th>795</th>\n",
       "      <td>356114</td>\n",
       "      <td>2015-01-01 08:57:35</td>\n",
       "      <td>2015-01-02 08:15:12</td>\n",
       "      <td>36</td>\n",
       "      <td>VWFJUWSKZFWXK</td>\n",
       "      <td>SEO</td>\n",
       "      <td>Chrome</td>\n",
       "      <td>M</td>\n",
       "      <td>46</td>\n",
       "      <td>4.121968e+09</td>\n",
       "      <td>0</td>\n",
       "      <td>0</td>\n",
       "      <td>23.0</td>\n",
       "    </tr>\n",
       "    <tr>\n",
       "      <th>846</th>\n",
       "      <td>64429</td>\n",
       "      <td>2015-01-01 13:04:16</td>\n",
       "      <td>2015-01-02 09:31:49</td>\n",
       "      <td>54</td>\n",
       "      <td>IAZPLBXKSKOGW</td>\n",
       "      <td>SEO</td>\n",
       "      <td>Chrome</td>\n",
       "      <td>M</td>\n",
       "      <td>25</td>\n",
       "      <td>3.328207e+09</td>\n",
       "      <td>0</td>\n",
       "      <td>3</td>\n",
       "      <td>20.0</td>\n",
       "    </tr>\n",
       "  </tbody>\n",
       "</table>\n",
       "</div>"
      ],
      "text/plain": [
       "     user_id         signup_time        purchase_time  purchase_value  \\\n",
       "378    58397 2015-01-01 03:04:18  2015-01-01 15:26:23              37   \n",
       "713   326217 2015-01-01 13:53:34  2015-01-02 04:45:11              11   \n",
       "795   356114 2015-01-01 08:57:35  2015-01-02 08:15:12              36   \n",
       "846    64429 2015-01-01 13:04:16  2015-01-02 09:31:49              54   \n",
       "\n",
       "         device_id  source  browser sex  age    ip_address  class  country  \\\n",
       "378  YICCDRLMZHPSM     Ads   Safari   M   30  3.686620e+09      0        1   \n",
       "713  KBEAMBIXFHTQG  Direct  FireFox   F   29  2.068289e+09      0        4   \n",
       "795  VWFJUWSKZFWXK     SEO   Chrome   M   46  4.121968e+09      0        0   \n",
       "846  IAZPLBXKSKOGW     SEO   Chrome   M   25  3.328207e+09      0        3   \n",
       "\n",
       "       Dt  \n",
       "378  12.0  \n",
       "713  14.0  \n",
       "795  23.0  \n",
       "846  20.0  "
      ]
     },
     "execution_count": 26,
     "metadata": {},
     "output_type": "execute_result"
    }
   ],
   "source": [
    "data_n.head(4)"
   ]
  },
  {
   "cell_type": "code",
   "execution_count": 27,
   "metadata": {},
   "outputs": [
    {
     "name": "stdout",
     "output_type": "stream",
     "text": [
      "<class 'pandas.core.frame.DataFrame'>\n",
      "Int64Index: 98138 entries, 378 to 105777\n",
      "Data columns (total 13 columns):\n",
      "user_id           98138 non-null int64\n",
      "signup_time       98138 non-null datetime64[ns]\n",
      "purchase_time     98138 non-null object\n",
      "purchase_value    98138 non-null int64\n",
      "device_id         98138 non-null object\n",
      "source            98138 non-null object\n",
      "browser           98138 non-null object\n",
      "sex               98138 non-null object\n",
      "age               98138 non-null int64\n",
      "ip_address        98138 non-null float64\n",
      "class             98138 non-null int64\n",
      "country           98138 non-null int64\n",
      "Dt                98138 non-null float64\n",
      "dtypes: datetime64[ns](1), float64(2), int64(5), object(5)\n",
      "memory usage: 10.5+ MB\n"
     ]
    }
   ],
   "source": [
    "data_n[\"country\"] = data_n[\"country\"].astype('int64')\n",
    "data_n.info()"
   ]
  },
  {
   "cell_type": "code",
   "execution_count": 28,
   "metadata": {},
   "outputs": [
    {
     "data": {
      "image/png": "[encoded data removed]",
      "text/plain": [
       "<matplotlib.figure.Figure at 0x7f153c1e1320>"
      ]
     },
     "metadata": {},
     "output_type": "display_data"
    }
   ],
   "source": [
    "#correlation heatmap of dataset\n",
    "def correlation_heatmap(df):\n",
    "    _ , ax = plt.subplots(figsize =(14, 12))\n",
    "    colormap = sns.diverging_palette(220, 10, as_cmap = True)\n",
    "    \n",
    "    _ = sns.heatmap(\n",
    "        df.corr(), \n",
    "        cmap = colormap,\n",
    "        square=True, \n",
    "        cbar_kws={'shrink':.9 }, \n",
    "        ax=ax,\n",
    "        annot=True, \n",
    "        linewidths=0.1,vmax=1.0, linecolor='white',\n",
    "        annot_kws={'fontsize':12 }\n",
    "    )\n",
    "    \n",
    "    plt.title('Pearson Correlation of Features', y=1.05, size=15)\n",
    "\n",
    "correlation_heatmap(data_n)\n"
   ]
  },
  {
   "cell_type": "code",
   "execution_count": 29,
   "metadata": {},
   "outputs": [
    {
     "data": {
      "text/plain": [
       "SEO       39488\n",
       "Ads       38854\n",
       "Direct    19796\n",
       "Name: source, dtype: int64"
      ]
     },
     "execution_count": 29,
     "metadata": {},
     "output_type": "execute_result"
    }
   ],
   "source": [
    "data_n['source'].value_counts()"
   ]
  },
  {
   "cell_type": "code",
   "execution_count": 30,
   "metadata": {},
   "outputs": [
    {
     "data": {
      "text/plain": [
       "Chrome     39699\n",
       "IE         24022\n",
       "Safari     16061\n",
       "FireFox    15946\n",
       "Opera       2410\n",
       "Name: browser, dtype: int64"
      ]
     },
     "execution_count": 30,
     "metadata": {},
     "output_type": "execute_result"
    }
   ],
   "source": [
    "data_n['browser'].value_counts()"
   ]
  },
  {
   "cell_type": "code",
   "execution_count": 31,
   "metadata": {
    "collapsed": true
   },
   "outputs": [],
   "source": [
    "source_dict = {'SEO' : '0','Ads' : '1', 'Direct' : '2'}"
   ]
  },
  {
   "cell_type": "code",
   "execution_count": 32,
   "metadata": {
    "collapsed": true
   },
   "outputs": [],
   "source": [
    "browser_dict = {'Chrome' : '0','IE' : '1', 'Safari' : '2', 'FireFox' : '3', 'Opera': '4'}"
   ]
  },
  {
   "cell_type": "code",
   "execution_count": 33,
   "metadata": {
    "collapsed": true
   },
   "outputs": [],
   "source": [
    "cleanup_nums = {\"source\": source_dict}\n",
    "data_n.replace(cleanup_nums, inplace=True)"
   ]
  },
  {
   "cell_type": "code",
   "execution_count": 34,
   "metadata": {
    "collapsed": true
   },
   "outputs": [],
   "source": [
    "cleanup_nums = {\"browser\": browser_dict}\n",
    "data_n.replace(cleanup_nums, inplace=True)"
   ]
  },
  {
   "cell_type": "code",
   "execution_count": 35,
   "metadata": {
    "collapsed": true
   },
   "outputs": [],
   "source": [
    "data_n[\"source\"] = data_n[\"source\"].astype('int64')"
   ]
  },
  {
   "cell_type": "code",
   "execution_count": 36,
   "metadata": {
    "collapsed": true
   },
   "outputs": [],
   "source": [
    "data_n[\"browser\"] = data_n[\"browser\"].astype('int64')"
   ]
  },
  {
   "cell_type": "code",
   "execution_count": 37,
   "metadata": {
    "collapsed": true
   },
   "outputs": [],
   "source": [
    "sex_dict = {'M' : '0','F' : '1'}"
   ]
  },
  {
   "cell_type": "code",
   "execution_count": 38,
   "metadata": {
    "collapsed": true
   },
   "outputs": [],
   "source": [
    "cleanup_nums = {\"sex\": sex_dict}\n",
    "data_n.replace(cleanup_nums, inplace=True)"
   ]
  },
  {
   "cell_type": "code",
   "execution_count": 39,
   "metadata": {
    "collapsed": true
   },
   "outputs": [],
   "source": [
    "data_n[\"sex\"] = data_n[\"sex\"].astype('int64')"
   ]
  },
  {
   "cell_type": "code",
   "execution_count": 40,
   "metadata": {},
   "outputs": [
    {
     "data": {
      "text/html": [
       "<div>\n",
       "<style>\n",
       "    .dataframe thead tr:only-child th {\n",
       "        text-align: right;\n",
       "    }\n",
       "\n",
       "    .dataframe thead th {\n",
       "        text-align: left;\n",
       "    }\n",
       "\n",
       "    .dataframe tbody tr th {\n",
       "        vertical-align: top;\n",
       "    }\n",
       "</style>\n",
       "<table border=\"1\" class=\"dataframe\">\n",
       "  <thead>\n",
       "    <tr style=\"text-align: right;\">\n",
       "      <th></th>\n",
       "      <th>user_id</th>\n",
       "      <th>signup_time</th>\n",
       "      <th>purchase_time</th>\n",
       "      <th>purchase_value</th>\n",
       "      <th>device_id</th>\n",
       "      <th>source</th>\n",
       "      <th>browser</th>\n",
       "      <th>sex</th>\n",
       "      <th>age</th>\n",
       "      <th>ip_address</th>\n",
       "      <th>class</th>\n",
       "      <th>country</th>\n",
       "      <th>Dt</th>\n",
       "    </tr>\n",
       "  </thead>\n",
       "  <tbody>\n",
       "    <tr>\n",
       "      <th>378</th>\n",
       "      <td>58397</td>\n",
       "      <td>2015-01-01 03:04:18</td>\n",
       "      <td>2015-01-01 15:26:23</td>\n",
       "      <td>37</td>\n",
       "      <td>YICCDRLMZHPSM</td>\n",
       "      <td>1</td>\n",
       "      <td>2</td>\n",
       "      <td>0</td>\n",
       "      <td>30</td>\n",
       "      <td>3.686620e+09</td>\n",
       "      <td>0</td>\n",
       "      <td>1</td>\n",
       "      <td>12.0</td>\n",
       "    </tr>\n",
       "    <tr>\n",
       "      <th>713</th>\n",
       "      <td>326217</td>\n",
       "      <td>2015-01-01 13:53:34</td>\n",
       "      <td>2015-01-02 04:45:11</td>\n",
       "      <td>11</td>\n",
       "      <td>KBEAMBIXFHTQG</td>\n",
       "      <td>2</td>\n",
       "      <td>3</td>\n",
       "      <td>1</td>\n",
       "      <td>29</td>\n",
       "      <td>2.068289e+09</td>\n",
       "      <td>0</td>\n",
       "      <td>4</td>\n",
       "      <td>14.0</td>\n",
       "    </tr>\n",
       "    <tr>\n",
       "      <th>795</th>\n",
       "      <td>356114</td>\n",
       "      <td>2015-01-01 08:57:35</td>\n",
       "      <td>2015-01-02 08:15:12</td>\n",
       "      <td>36</td>\n",
       "      <td>VWFJUWSKZFWXK</td>\n",
       "      <td>0</td>\n",
       "      <td>0</td>\n",
       "      <td>0</td>\n",
       "      <td>46</td>\n",
       "      <td>4.121968e+09</td>\n",
       "      <td>0</td>\n",
       "      <td>0</td>\n",
       "      <td>23.0</td>\n",
       "    </tr>\n",
       "    <tr>\n",
       "      <th>846</th>\n",
       "      <td>64429</td>\n",
       "      <td>2015-01-01 13:04:16</td>\n",
       "      <td>2015-01-02 09:31:49</td>\n",
       "      <td>54</td>\n",
       "      <td>IAZPLBXKSKOGW</td>\n",
       "      <td>0</td>\n",
       "      <td>0</td>\n",
       "      <td>0</td>\n",
       "      <td>25</td>\n",
       "      <td>3.328207e+09</td>\n",
       "      <td>0</td>\n",
       "      <td>3</td>\n",
       "      <td>20.0</td>\n",
       "    </tr>\n",
       "    <tr>\n",
       "      <th>847</th>\n",
       "      <td>266142</td>\n",
       "      <td>2015-01-01 02:56:50</td>\n",
       "      <td>2015-01-02 09:42:20</td>\n",
       "      <td>33</td>\n",
       "      <td>VXPGOPOAJWYGS</td>\n",
       "      <td>0</td>\n",
       "      <td>0</td>\n",
       "      <td>0</td>\n",
       "      <td>32</td>\n",
       "      <td>4.943509e+08</td>\n",
       "      <td>0</td>\n",
       "      <td>2</td>\n",
       "      <td>30.0</td>\n",
       "    </tr>\n",
       "  </tbody>\n",
       "</table>\n",
       "</div>"
      ],
      "text/plain": [
       "     user_id         signup_time        purchase_time  purchase_value  \\\n",
       "378    58397 2015-01-01 03:04:18  2015-01-01 15:26:23              37   \n",
       "713   326217 2015-01-01 13:53:34  2015-01-02 04:45:11              11   \n",
       "795   356114 2015-01-01 08:57:35  2015-01-02 08:15:12              36   \n",
       "846    64429 2015-01-01 13:04:16  2015-01-02 09:31:49              54   \n",
       "847   266142 2015-01-01 02:56:50  2015-01-02 09:42:20              33   \n",
       "\n",
       "         device_id  source  browser  sex  age    ip_address  class  country  \\\n",
       "378  YICCDRLMZHPSM       1        2    0   30  3.686620e+09      0        1   \n",
       "713  KBEAMBIXFHTQG       2        3    1   29  2.068289e+09      0        4   \n",
       "795  VWFJUWSKZFWXK       0        0    0   46  4.121968e+09      0        0   \n",
       "846  IAZPLBXKSKOGW       0        0    0   25  3.328207e+09      0        3   \n",
       "847  VXPGOPOAJWYGS       0        0    0   32  4.943509e+08      0        2   \n",
       "\n",
       "       Dt  \n",
       "378  12.0  \n",
       "713  14.0  \n",
       "795  23.0  \n",
       "846  20.0  \n",
       "847  30.0  "
      ]
     },
     "execution_count": 40,
     "metadata": {},
     "output_type": "execute_result"
    }
   ],
   "source": [
    "data_n.head(5)"
   ]
  },
  {
   "cell_type": "code",
   "execution_count": 41,
   "metadata": {},
   "outputs": [
    {
     "data": {
      "image/png": "[encoded data removed]",
      "text/plain": [
       "<matplotlib.figure.Figure at 0x7f15468c2b38>"
      ]
     },
     "metadata": {},
     "output_type": "display_data"
    }
   ],
   "source": [
    "correlation_heatmap(data_n)"
   ]
  },
  {
   "cell_type": "code",
   "execution_count": 42,
   "metadata": {
    "collapsed": true
   },
   "outputs": [],
   "source": [
    "occur = data_n['device_id'].value_counts()"
   ]
  },
  {
   "cell_type": "markdown",
   "metadata": {
    "collapsed": true
   },
   "source": [
    "### Ideja: napraviti novu kolonu koja pokazuje koliko puta je korisnik vrsio kupovinu (prema device_id-u)"
   ]
  },
  {
   "cell_type": "code",
   "execution_count": 43,
   "metadata": {},
   "outputs": [
    {
     "data": {
      "text/plain": [
       "ZAPVZMOKPESVX    3\n",
       "MIKFMVOJXZQXS    3\n",
       "WNMTQULGSUCUB    3\n",
       "ZTUETGYUPWOYV    3\n",
       "QHNJXBTHZFQPT    3\n",
       "Name: device_id, dtype: int64"
      ]
     },
     "execution_count": 43,
     "metadata": {},
     "output_type": "execute_result"
    }
   ],
   "source": [
    "occur.head(5)"
   ]
  },
  {
   "cell_type": "code",
   "execution_count": 44,
   "metadata": {
    "collapsed": true
   },
   "outputs": [],
   "source": [
    "data_n['occurence'] = 0"
   ]
  },
  {
   "cell_type": "code",
   "execution_count": 45,
   "metadata": {},
   "outputs": [
    {
     "data": {
      "text/html": [
       "<div>\n",
       "<style>\n",
       "    .dataframe thead tr:only-child th {\n",
       "        text-align: right;\n",
       "    }\n",
       "\n",
       "    .dataframe thead th {\n",
       "        text-align: left;\n",
       "    }\n",
       "\n",
       "    .dataframe tbody tr th {\n",
       "        vertical-align: top;\n",
       "    }\n",
       "</style>\n",
       "<table border=\"1\" class=\"dataframe\">\n",
       "  <thead>\n",
       "    <tr style=\"text-align: right;\">\n",
       "      <th></th>\n",
       "      <th>user_id</th>\n",
       "      <th>signup_time</th>\n",
       "      <th>purchase_time</th>\n",
       "      <th>purchase_value</th>\n",
       "      <th>device_id</th>\n",
       "      <th>source</th>\n",
       "      <th>browser</th>\n",
       "      <th>sex</th>\n",
       "      <th>age</th>\n",
       "      <th>ip_address</th>\n",
       "      <th>class</th>\n",
       "      <th>country</th>\n",
       "      <th>Dt</th>\n",
       "      <th>occurence</th>\n",
       "    </tr>\n",
       "  </thead>\n",
       "  <tbody>\n",
       "    <tr>\n",
       "      <th>378</th>\n",
       "      <td>58397</td>\n",
       "      <td>2015-01-01 03:04:18</td>\n",
       "      <td>2015-01-01 15:26:23</td>\n",
       "      <td>37</td>\n",
       "      <td>YICCDRLMZHPSM</td>\n",
       "      <td>1</td>\n",
       "      <td>2</td>\n",
       "      <td>0</td>\n",
       "      <td>30</td>\n",
       "      <td>3.686620e+09</td>\n",
       "      <td>0</td>\n",
       "      <td>1</td>\n",
       "      <td>12.0</td>\n",
       "      <td>0</td>\n",
       "    </tr>\n",
       "    <tr>\n",
       "      <th>713</th>\n",
       "      <td>326217</td>\n",
       "      <td>2015-01-01 13:53:34</td>\n",
       "      <td>2015-01-02 04:45:11</td>\n",
       "      <td>11</td>\n",
       "      <td>KBEAMBIXFHTQG</td>\n",
       "      <td>2</td>\n",
       "      <td>3</td>\n",
       "      <td>1</td>\n",
       "      <td>29</td>\n",
       "      <td>2.068289e+09</td>\n",
       "      <td>0</td>\n",
       "      <td>4</td>\n",
       "      <td>14.0</td>\n",
       "      <td>0</td>\n",
       "    </tr>\n",
       "    <tr>\n",
       "      <th>795</th>\n",
       "      <td>356114</td>\n",
       "      <td>2015-01-01 08:57:35</td>\n",
       "      <td>2015-01-02 08:15:12</td>\n",
       "      <td>36</td>\n",
       "      <td>VWFJUWSKZFWXK</td>\n",
       "      <td>0</td>\n",
       "      <td>0</td>\n",
       "      <td>0</td>\n",
       "      <td>46</td>\n",
       "      <td>4.121968e+09</td>\n",
       "      <td>0</td>\n",
       "      <td>0</td>\n",
       "      <td>23.0</td>\n",
       "      <td>0</td>\n",
       "    </tr>\n",
       "    <tr>\n",
       "      <th>846</th>\n",
       "      <td>64429</td>\n",
       "      <td>2015-01-01 13:04:16</td>\n",
       "      <td>2015-01-02 09:31:49</td>\n",
       "      <td>54</td>\n",
       "      <td>IAZPLBXKSKOGW</td>\n",
       "      <td>0</td>\n",
       "      <td>0</td>\n",
       "      <td>0</td>\n",
       "      <td>25</td>\n",
       "      <td>3.328207e+09</td>\n",
       "      <td>0</td>\n",
       "      <td>3</td>\n",
       "      <td>20.0</td>\n",
       "      <td>0</td>\n",
       "    </tr>\n",
       "    <tr>\n",
       "      <th>847</th>\n",
       "      <td>266142</td>\n",
       "      <td>2015-01-01 02:56:50</td>\n",
       "      <td>2015-01-02 09:42:20</td>\n",
       "      <td>33</td>\n",
       "      <td>VXPGOPOAJWYGS</td>\n",
       "      <td>0</td>\n",
       "      <td>0</td>\n",
       "      <td>0</td>\n",
       "      <td>32</td>\n",
       "      <td>4.943509e+08</td>\n",
       "      <td>0</td>\n",
       "      <td>2</td>\n",
       "      <td>30.0</td>\n",
       "      <td>0</td>\n",
       "    </tr>\n",
       "  </tbody>\n",
       "</table>\n",
       "</div>"
      ],
      "text/plain": [
       "     user_id         signup_time        purchase_time  purchase_value  \\\n",
       "378    58397 2015-01-01 03:04:18  2015-01-01 15:26:23              37   \n",
       "713   326217 2015-01-01 13:53:34  2015-01-02 04:45:11              11   \n",
       "795   356114 2015-01-01 08:57:35  2015-01-02 08:15:12              36   \n",
       "846    64429 2015-01-01 13:04:16  2015-01-02 09:31:49              54   \n",
       "847   266142 2015-01-01 02:56:50  2015-01-02 09:42:20              33   \n",
       "\n",
       "         device_id  source  browser  sex  age    ip_address  class  country  \\\n",
       "378  YICCDRLMZHPSM       1        2    0   30  3.686620e+09      0        1   \n",
       "713  KBEAMBIXFHTQG       2        3    1   29  2.068289e+09      0        4   \n",
       "795  VWFJUWSKZFWXK       0        0    0   46  4.121968e+09      0        0   \n",
       "846  IAZPLBXKSKOGW       0        0    0   25  3.328207e+09      0        3   \n",
       "847  VXPGOPOAJWYGS       0        0    0   32  4.943509e+08      0        2   \n",
       "\n",
       "       Dt  occurence  \n",
       "378  12.0          0  \n",
       "713  14.0          0  \n",
       "795  23.0          0  \n",
       "846  20.0          0  \n",
       "847  30.0          0  "
      ]
     },
     "execution_count": 45,
     "metadata": {},
     "output_type": "execute_result"
    }
   ],
   "source": [
    "data_n.head()"
   ]
  },
  {
   "cell_type": "code",
   "execution_count": 46,
   "metadata": {
    "collapsed": true
   },
   "outputs": [],
   "source": [
    "data_n['occurence'] = data_n.apply(lambda row: occur[row['device_id']], axis=1)"
   ]
  },
  {
   "cell_type": "code",
   "execution_count": 47,
   "metadata": {},
   "outputs": [
    {
     "data": {
      "text/plain": [
       "0"
      ]
     },
     "execution_count": 47,
     "metadata": {},
     "output_type": "execute_result"
    }
   ],
   "source": [
    "len(data_n[data_n['occurence']==4])"
   ]
  },
  {
   "cell_type": "code",
   "execution_count": 48,
   "metadata": {},
   "outputs": [
    {
     "data": {
      "text/html": [
       "<div>\n",
       "<style>\n",
       "    .dataframe thead tr:only-child th {\n",
       "        text-align: right;\n",
       "    }\n",
       "\n",
       "    .dataframe thead th {\n",
       "        text-align: left;\n",
       "    }\n",
       "\n",
       "    .dataframe tbody tr th {\n",
       "        vertical-align: top;\n",
       "    }\n",
       "</style>\n",
       "<table border=\"1\" class=\"dataframe\">\n",
       "  <thead>\n",
       "    <tr style=\"text-align: right;\">\n",
       "      <th></th>\n",
       "      <th>user_id</th>\n",
       "      <th>signup_time</th>\n",
       "      <th>purchase_time</th>\n",
       "      <th>purchase_value</th>\n",
       "      <th>device_id</th>\n",
       "      <th>source</th>\n",
       "      <th>browser</th>\n",
       "      <th>sex</th>\n",
       "      <th>age</th>\n",
       "      <th>ip_address</th>\n",
       "      <th>class</th>\n",
       "      <th>country</th>\n",
       "      <th>Dt</th>\n",
       "      <th>occurence</th>\n",
       "    </tr>\n",
       "  </thead>\n",
       "  <tbody>\n",
       "    <tr>\n",
       "      <th>378</th>\n",
       "      <td>58397</td>\n",
       "      <td>2015-01-01 03:04:18</td>\n",
       "      <td>2015-01-01 15:26:23</td>\n",
       "      <td>37</td>\n",
       "      <td>YICCDRLMZHPSM</td>\n",
       "      <td>1</td>\n",
       "      <td>2</td>\n",
       "      <td>0</td>\n",
       "      <td>30</td>\n",
       "      <td>3.686620e+09</td>\n",
       "      <td>0</td>\n",
       "      <td>1</td>\n",
       "      <td>12.0</td>\n",
       "      <td>1</td>\n",
       "    </tr>\n",
       "    <tr>\n",
       "      <th>713</th>\n",
       "      <td>326217</td>\n",
       "      <td>2015-01-01 13:53:34</td>\n",
       "      <td>2015-01-02 04:45:11</td>\n",
       "      <td>11</td>\n",
       "      <td>KBEAMBIXFHTQG</td>\n",
       "      <td>2</td>\n",
       "      <td>3</td>\n",
       "      <td>1</td>\n",
       "      <td>29</td>\n",
       "      <td>2.068289e+09</td>\n",
       "      <td>0</td>\n",
       "      <td>4</td>\n",
       "      <td>14.0</td>\n",
       "      <td>1</td>\n",
       "    </tr>\n",
       "    <tr>\n",
       "      <th>795</th>\n",
       "      <td>356114</td>\n",
       "      <td>2015-01-01 08:57:35</td>\n",
       "      <td>2015-01-02 08:15:12</td>\n",
       "      <td>36</td>\n",
       "      <td>VWFJUWSKZFWXK</td>\n",
       "      <td>0</td>\n",
       "      <td>0</td>\n",
       "      <td>0</td>\n",
       "      <td>46</td>\n",
       "      <td>4.121968e+09</td>\n",
       "      <td>0</td>\n",
       "      <td>0</td>\n",
       "      <td>23.0</td>\n",
       "      <td>1</td>\n",
       "    </tr>\n",
       "    <tr>\n",
       "      <th>846</th>\n",
       "      <td>64429</td>\n",
       "      <td>2015-01-01 13:04:16</td>\n",
       "      <td>2015-01-02 09:31:49</td>\n",
       "      <td>54</td>\n",
       "      <td>IAZPLBXKSKOGW</td>\n",
       "      <td>0</td>\n",
       "      <td>0</td>\n",
       "      <td>0</td>\n",
       "      <td>25</td>\n",
       "      <td>3.328207e+09</td>\n",
       "      <td>0</td>\n",
       "      <td>3</td>\n",
       "      <td>20.0</td>\n",
       "      <td>1</td>\n",
       "    </tr>\n",
       "    <tr>\n",
       "      <th>847</th>\n",
       "      <td>266142</td>\n",
       "      <td>2015-01-01 02:56:50</td>\n",
       "      <td>2015-01-02 09:42:20</td>\n",
       "      <td>33</td>\n",
       "      <td>VXPGOPOAJWYGS</td>\n",
       "      <td>0</td>\n",
       "      <td>0</td>\n",
       "      <td>0</td>\n",
       "      <td>32</td>\n",
       "      <td>4.943509e+08</td>\n",
       "      <td>0</td>\n",
       "      <td>2</td>\n",
       "      <td>30.0</td>\n",
       "      <td>1</td>\n",
       "    </tr>\n",
       "  </tbody>\n",
       "</table>\n",
       "</div>"
      ],
      "text/plain": [
       "     user_id         signup_time        purchase_time  purchase_value  \\\n",
       "378    58397 2015-01-01 03:04:18  2015-01-01 15:26:23              37   \n",
       "713   326217 2015-01-01 13:53:34  2015-01-02 04:45:11              11   \n",
       "795   356114 2015-01-01 08:57:35  2015-01-02 08:15:12              36   \n",
       "846    64429 2015-01-01 13:04:16  2015-01-02 09:31:49              54   \n",
       "847   266142 2015-01-01 02:56:50  2015-01-02 09:42:20              33   \n",
       "\n",
       "         device_id  source  browser  sex  age    ip_address  class  country  \\\n",
       "378  YICCDRLMZHPSM       1        2    0   30  3.686620e+09      0        1   \n",
       "713  KBEAMBIXFHTQG       2        3    1   29  2.068289e+09      0        4   \n",
       "795  VWFJUWSKZFWXK       0        0    0   46  4.121968e+09      0        0   \n",
       "846  IAZPLBXKSKOGW       0        0    0   25  3.328207e+09      0        3   \n",
       "847  VXPGOPOAJWYGS       0        0    0   32  4.943509e+08      0        2   \n",
       "\n",
       "       Dt  occurence  \n",
       "378  12.0          1  \n",
       "713  14.0          1  \n",
       "795  23.0          1  \n",
       "846  20.0          1  \n",
       "847  30.0          1  "
      ]
     },
     "execution_count": 48,
     "metadata": {},
     "output_type": "execute_result"
    }
   ],
   "source": [
    "data_n.head(5)"
   ]
  },
  {
   "cell_type": "code",
   "execution_count": 49,
   "metadata": {},
   "outputs": [
    {
     "data": {
      "image/png": "[encoded data removed]",
      "text/plain": [
       "<matplotlib.figure.Figure at 0x7f1544a9f4a8>"
      ]
     },
     "metadata": {},
     "output_type": "display_data"
    }
   ],
   "source": [
    "correlation_heatmap(data_n)"
   ]
  },
  {
   "cell_type": "code",
   "execution_count": 50,
   "metadata": {},
   "outputs": [
    {
     "data": {
      "text/plain": [
       "1    92796\n",
       "2     5228\n",
       "3      114\n",
       "Name: occurence, dtype: int64"
      ]
     },
     "execution_count": 50,
     "metadata": {},
     "output_type": "execute_result"
    }
   ],
   "source": [
    "data_n['occurence'].value_counts()"
   ]
  },
  {
   "cell_type": "code",
   "execution_count": 51,
   "metadata": {},
   "outputs": [
    {
     "name": "stdout",
     "output_type": "stream",
     "text": [
      "occ 1: normal =  96.49230570283201\n",
      "occ 1: fraud =  3.507694297167981\n"
     ]
    }
   ],
   "source": [
    "data_n1 = data_n[data_n['occurence']==1]\n",
    "print('occ 1: normal = ',len(data_n1[data_n1['class']==0])/len(data_n1)*100)\n",
    "print('occ 1: fraud = ',len(data_n1[data_n1['class']==1])/len(data_n1)*100)"
   ]
  },
  {
   "cell_type": "code",
   "execution_count": 52,
   "metadata": {},
   "outputs": [
    {
     "name": "stdout",
     "output_type": "stream",
     "text": [
      "occ 1: normal =  77.12318286151492\n",
      "occ 1: fraud =  22.87681713848508\n"
     ]
    }
   ],
   "source": [
    "data_n2 = data_n[data_n['occurence']==2]\n",
    "print('occ 1: normal = ',len(data_n2[data_n2['class']==0])/len(data_n2)*100)\n",
    "print('occ 1: fraud = ',len(data_n2[data_n2['class']==1])/len(data_n2)*100)"
   ]
  },
  {
   "cell_type": "code",
   "execution_count": 53,
   "metadata": {},
   "outputs": [
    {
     "name": "stdout",
     "output_type": "stream",
     "text": [
      "occ 1: normal =  80.7017543859649\n",
      "occ 1: fraud =  19.298245614035086\n"
     ]
    }
   ],
   "source": [
    "data_n3 = data_n[data_n['occurence']==3]\n",
    "print('occ 1: normal = ',len(data_n3[data_n3['class']==0])/len(data_n3)*100)\n",
    "print('occ 1: fraud = ',len(data_n3[data_n3['class']==1])/len(data_n3)*100)"
   ]
  },
  {
   "cell_type": "markdown",
   "metadata": {},
   "source": [
    "### Slab zakljucak ali sta je tu je, ako je 'occurence'>1 veca verovatnoca za prevaru, oko 6X veci procenat prevare u slucajevima >1 u odnosu na samo jedno javljanje"
   ]
  },
  {
   "cell_type": "code",
   "execution_count": 54,
   "metadata": {},
   "outputs": [
    {
     "name": "stdout",
     "output_type": "stream",
     "text": [
      "class          0     1\n",
      "occurence             \n",
      "1          89541  3255\n",
      "2           4032  1196\n",
      "3             92    22\n"
     ]
    },
    {
     "data": {
      "image/png": "[encoded data removed]",
      "text/plain": [
       "<matplotlib.figure.Figure at 0x7f153c498908>"
      ]
     },
     "metadata": {},
     "output_type": "display_data"
    }
   ],
   "source": [
    "cab = pd.crosstab(data_n['occurence'], data_n['class'])\n",
    "print(cab)\n",
    "dummy = cab.div(cab.sum(1).astype(float), axis=0).plot(kind=\"bar\", stacked=True)\n",
    "dummy = plt.xlabel('occurence')\n",
    "dummy = plt.ylabel('Percentage')"
   ]
  },
  {
   "cell_type": "code",
   "execution_count": 55,
   "metadata": {},
   "outputs": [
    {
     "name": "stdout",
     "output_type": "stream",
     "text": [
      "class        0     1\n",
      "country             \n",
      "0        13724   658\n",
      "1         4518   213\n",
      "2        36069  1757\n",
      "3         1825    96\n",
      "4         7462   356\n",
      "5         1837    77\n",
      "6          782    28\n",
      "7          402    23\n",
      "8         2703   142\n",
      "9          535    24\n",
      "10        2336   104\n",
      "11         649    31\n",
      "12         649    35\n",
      "13        2549   115\n",
      "14          51     5\n",
      "15         145     5\n",
      "16          29     2\n",
      "17        1938    78\n",
      "18         770    36\n",
      "19         987    45\n",
      "20         240    19\n",
      "21         284    17\n",
      "22        1059    42\n",
      "23         247    15\n",
      "24         689    26\n",
      "25           5     0\n",
      "26         143     7\n",
      "27         296    18\n",
      "28          23     2\n",
      "29          13     0\n",
      "...        ...   ...\n",
      "147          8     0\n",
      "148          9     0\n",
      "149          2     0\n",
      "150          3     0\n",
      "151          2     0\n",
      "153          1     0\n",
      "154          3     0\n",
      "155          1     0\n",
      "156          2     0\n",
      "158          1     0\n",
      "159          5     0\n",
      "160          3     0\n",
      "161          1     0\n",
      "162          1     0\n",
      "163          3     0\n",
      "164          1     0\n",
      "166          1     0\n",
      "167          1     0\n",
      "168          2     0\n",
      "169          1     0\n",
      "170          1     0\n",
      "171          1     0\n",
      "172          1     0\n",
      "173          2     0\n",
      "175          1     0\n",
      "177          1     0\n",
      "178          1     0\n",
      "179          1     0\n",
      "180          1     0\n",
      "181          1     0\n",
      "\n",
      "[176 rows x 2 columns]\n"
     ]
    },
    {
     "data": {
      "image/png": "[encoded data removed]",
      "text/plain": [
       "<matplotlib.figure.Figure at 0x7f153c2105f8>"
      ]
     },
     "metadata": {},
     "output_type": "display_data"
    }
   ],
   "source": [
    "cab = pd.crosstab(data_n['country'], data_n['class'])\n",
    "print(cab)\n",
    "dummy = cab.div(cab.sum(1).astype(float), axis=0).plot(kind=\"bar\", stacked=True)\n",
    "dummy = plt.xlabel('country')\n",
    "dummy = plt.ylabel('Percentage')"
   ]
  },
  {
   "cell_type": "code",
   "execution_count": 56,
   "metadata": {},
   "outputs": [
    {
     "data": {
      "text/plain": [
       "4.557867492714341"
      ]
     },
     "execution_count": 56,
     "metadata": {},
     "output_type": "execute_result"
    }
   ],
   "source": [
    "len(data_n[data_n['class']==1])/len(data_n)*100"
   ]
  },
  {
   "cell_type": "code",
   "execution_count": 57,
   "metadata": {
    "collapsed": true
   },
   "outputs": [],
   "source": [
    "X = data_n.iloc[:, data_n.columns == 'occurence']\n",
    "y = data_n.iloc[:, data_n.columns == 'class']"
   ]
  },
  {
   "cell_type": "code",
   "execution_count": 58,
   "metadata": {},
   "outputs": [
    {
     "name": "stdout",
     "output_type": "stream",
     "text": [
      "Number transactions train dataset:  68696\n",
      "Number transactions test dataset:  29442\n",
      "Total number of transactions:  98138\n"
     ]
    }
   ],
   "source": [
    "# Whole dataset\n",
    "X_train, X_test, y_train, y_test = train_test_split(X,y,test_size = 0.3, random_state = 0)\n",
    "print(\"Number transactions train dataset: \", len(X_train))\n",
    "print(\"Number transactions test dataset: \", len(X_test))\n",
    "print(\"Total number of transactions: \", len(X_train)+len(X_test))"
   ]
  },
  {
   "cell_type": "code",
   "execution_count": 59,
   "metadata": {
    "collapsed": true
   },
   "outputs": [],
   "source": [
    "from sklearn.linear_model import LogisticRegression\n",
    "from sklearn.svm import SVC\n",
    "from sklearn import neighbors\n",
    "from sklearn.linear_model import LinearRegression"
   ]
  },
  {
   "cell_type": "code",
   "execution_count": 60,
   "metadata": {},
   "outputs": [
    {
     "name": "stderr",
     "output_type": "stream",
     "text": [
      "/home/marko/anaconda3/lib/python3.6/site-packages/sklearn/utils/validation.py:578: DataConversionWarning: A column-vector y was passed when a 1d array was expected. Please change the shape of y to (n_samples, ), for example using ravel().\n",
      "  y = column_or_1d(y, warn=True)\n"
     ]
    },
    {
     "data": {
      "text/plain": [
       "LogisticRegression(C=1.0, class_weight=None, dual=False, fit_intercept=True,\n",
       "          intercept_scaling=1, max_iter=100, multi_class='ovr', n_jobs=1,\n",
       "          penalty='l1', random_state=None, solver='liblinear', tol=0.0001,\n",
       "          verbose=0, warm_start=False)"
      ]
     },
     "execution_count": 60,
     "metadata": {},
     "output_type": "execute_result"
    }
   ],
   "source": [
    "lr = LogisticRegression(penalty = 'l1')\n",
    "lr.fit(X_train, y_train)"
   ]
  },
  {
   "cell_type": "code",
   "execution_count": 61,
   "metadata": {
    "collapsed": true
   },
   "outputs": [],
   "source": [
    "y_pred = lr.predict(X_test)"
   ]
  },
  {
   "cell_type": "code",
   "execution_count": 62,
   "metadata": {},
   "outputs": [
    {
     "data": {
      "text/plain": [
       "0.95401127640785277"
      ]
     },
     "execution_count": 62,
     "metadata": {},
     "output_type": "execute_result"
    }
   ],
   "source": [
    "lr.score(X_test, y_test)"
   ]
  },
  {
   "cell_type": "code",
   "execution_count": 63,
   "metadata": {},
   "outputs": [
    {
     "data": {
      "text/plain": [
       "array([[28081,    23],\n",
       "       [ 1331,     7]])"
      ]
     },
     "execution_count": 63,
     "metadata": {},
     "output_type": "execute_result"
    }
   ],
   "source": [
    "from sklearn.metrics import confusion_matrix\n",
    "confusion_matrix(y_test, y_pred)"
   ]
  },
  {
   "cell_type": "code",
   "execution_count": 64,
   "metadata": {},
   "outputs": [
    {
     "name": "stdout",
     "output_type": "stream",
     "text": [
      "Recall metric in the testing dataset:  0.00523168908819\n"
     ]
    },
    {
     "data": {
      "image/png": "[encoded data removed]",
      "text/plain": [
       "<matplotlib.figure.Figure at 0x7f15440d24e0>"
      ]
     },
     "metadata": {},
     "output_type": "display_data"
    }
   ],
   "source": [
    "cnf_matrix = confusion_matrix(y_test,y_pred)\n",
    "np.set_printoptions(precision=2)\n",
    "print(\"Recall metric in the testing dataset: \", cnf_matrix[1,1]/(cnf_matrix[1,0]+cnf_matrix[1,1]))\n",
    "\n",
    "import itertools\n",
    "\n",
    "def plot_confusion_matrix(cm, classes,\n",
    "                          normalize=False,\n",
    "                          title='Confusion matrix',\n",
    "                          cmap=plt.cm.Blues):\n",
    "    \"\"\"\n",
    "    This function prints and plots the confusion matrix.\n",
    "    Normalization can be applied by setting `normalize=True`.\n",
    "    \"\"\"\n",
    "    plt.imshow(cm, interpolation='nearest', cmap=cmap)\n",
    "    plt.title(title)\n",
    "    plt.colorbar()\n",
    "    tick_marks = np.arange(len(classes))\n",
    "    plt.xticks(tick_marks, classes, rotation=0)\n",
    "    plt.yticks(tick_marks, classes)\n",
    "\n",
    "    if normalize:\n",
    "        cm = cm.astype('float') / cm.sum(axis=1)[:, np.newaxis]\n",
    "        #print(\"Normalized confusion matrix\")\n",
    "    else:\n",
    "        1#print('Confusion matrix, without normalization')\n",
    "\n",
    "    #print(cm)\n",
    "\n",
    "    thresh = cm.max() / 2.\n",
    "    for i, j in itertools.product(range(cm.shape[0]), range(cm.shape[1])):\n",
    "        plt.text(j, i, cm[i, j],\n",
    "                 horizontalalignment=\"center\",\n",
    "                 color=\"white\" if cm[i, j] > thresh else \"black\")\n",
    "\n",
    "    plt.tight_layout()\n",
    "    plt.ylabel('True label')\n",
    "    plt.xlabel('Predicted label')\n",
    "\n",
    "# Plot non-normalized confusion matrix\n",
    "class_names = [0,1]\n",
    "plt.figure()\n",
    "plot_confusion_matrix(cnf_matrix\n",
    "                      , classes=class_names\n",
    "                      , title='Confusion matrix')\n",
    "plt.show()"
   ]
  },
  {
   "cell_type": "code",
   "execution_count": 65,
   "metadata": {
    "collapsed": true
   },
   "outputs": [],
   "source": [
    "from sklearn import tree"
   ]
  },
  {
   "cell_type": "code",
   "execution_count": 66,
   "metadata": {
    "collapsed": true
   },
   "outputs": [],
   "source": [
    "clf = tree.tree.DecisionTreeClassifier()\n",
    "clf = clf.fit(X_train, y_train)"
   ]
  },
  {
   "cell_type": "code",
   "execution_count": 67,
   "metadata": {},
   "outputs": [
    {
     "data": {
      "image/png": "[encoded data removed]",
      "text/plain": [
       "<matplotlib.figure.Figure at 0x7f1544a75f60>"
      ]
     },
     "metadata": {},
     "output_type": "display_data"
    }
   ],
   "source": [
    "y_pred = clf.predict(X_test)\n",
    "clf.score(X_test, y_test)\n",
    "class_names = [0,1]\n",
    "plt.figure()\n",
    "plot_confusion_matrix(cnf_matrix\n",
    "                      , classes=class_names\n",
    "                      , title='Confusion matrix')\n",
    "plt.show()"
   ]
  }
 ],
 "metadata": {
  "kernelspec": {
   "display_name": "Python 3",
   "language": "python",
   "name": "python3"
  },
  "language_info": {
   "codemirror_mode": {
    "name": "ipython",
    "version": 3
   },
   "file_extension": ".py",
   "mimetype": "text/x-python",
   "name": "python",
   "nbconvert_exporter": "python",
   "pygments_lexer": "ipython3",
   "version": "3.6.3"
  }
 },
 "nbformat": 4,
 "nbformat_minor": 2
}
