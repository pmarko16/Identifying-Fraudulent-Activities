{
 "cells": [
  {
   "cell_type": "markdown",
   "metadata": {},
   "source": [
    "# Identifying Fraudulent Activities\n",
    "\n",
    "## Step 1: Import Libraries and Data\n",
    "First of all, load in our libraries and data."
   ]
  },
  {
   "cell_type": "code",
   "execution_count": 1,
   "metadata": {
    "collapsed": true
   },
   "outputs": [],
   "source": [
    "import pandas as pd\n",
    "import numpy as np\n",
    "from datetime import time\n",
    "import time\n",
    "import matplotlib.pyplot as plt\n",
    "from sklearn.model_selection import train_test_split\n",
    "from sklearn.preprocessing import StandardScaler\n",
    "import seaborn as sns"
   ]
  },
  {
   "cell_type": "code",
   "execution_count": 2,
   "metadata": {
    "collapsed": true
   },
   "outputs": [],
   "source": [
    "%matplotlib inline\n",
    "\n",
    "data = pd.read_csv('Data/train.csv') # training data set\n",
    "test = pd.read_csv('Data/test.csv')  # testing date set\n",
    "county = pd.read_csv('Data/countries.csv') # country encoding information"
   ]
  },
  {
   "cell_type": "code",
   "execution_count": 3,
   "metadata": {
    "scrolled": true
   },
   "outputs": [
    {
     "data": {
      "text/html": [
       "<div>\n",
       "<style>\n",
       "    .dataframe thead tr:only-child th {\n",
       "        text-align: right;\n",
       "    }\n",
       "\n",
       "    .dataframe thead th {\n",
       "        text-align: left;\n",
       "    }\n",
       "\n",
       "    .dataframe tbody tr th {\n",
       "        vertical-align: top;\n",
       "    }\n",
       "</style>\n",
       "<table border=\"1\" class=\"dataframe\">\n",
       "  <thead>\n",
       "    <tr style=\"text-align: right;\">\n",
       "      <th></th>\n",
       "      <th>user_id</th>\n",
       "      <th>signup_time</th>\n",
       "      <th>purchase_time</th>\n",
       "      <th>purchase_value</th>\n",
       "      <th>device_id</th>\n",
       "      <th>source</th>\n",
       "      <th>browser</th>\n",
       "      <th>sex</th>\n",
       "      <th>age</th>\n",
       "      <th>ip_address</th>\n",
       "      <th>class</th>\n",
       "      <th>country</th>\n",
       "    </tr>\n",
       "  </thead>\n",
       "  <tbody>\n",
       "    <tr>\n",
       "      <th>0</th>\n",
       "      <td>309557</td>\n",
       "      <td>2015-01-01 00:00:43</td>\n",
       "      <td>2015-01-01 00:00:44</td>\n",
       "      <td>14</td>\n",
       "      <td>BBPACGBUVJUXF</td>\n",
       "      <td>Ads</td>\n",
       "      <td>Chrome</td>\n",
       "      <td>F</td>\n",
       "      <td>38</td>\n",
       "      <td>2.001426e+09</td>\n",
       "      <td>1</td>\n",
       "      <td>Korea Republic of</td>\n",
       "    </tr>\n",
       "    <tr>\n",
       "      <th>1</th>\n",
       "      <td>124539</td>\n",
       "      <td>2015-01-01 00:00:44</td>\n",
       "      <td>2015-01-01 00:00:45</td>\n",
       "      <td>14</td>\n",
       "      <td>BBPACGBUVJUXF</td>\n",
       "      <td>Ads</td>\n",
       "      <td>Chrome</td>\n",
       "      <td>F</td>\n",
       "      <td>38</td>\n",
       "      <td>2.001426e+09</td>\n",
       "      <td>1</td>\n",
       "      <td>Korea Republic of</td>\n",
       "    </tr>\n",
       "    <tr>\n",
       "      <th>2</th>\n",
       "      <td>161246</td>\n",
       "      <td>2015-01-01 00:00:45</td>\n",
       "      <td>2015-01-01 00:00:46</td>\n",
       "      <td>14</td>\n",
       "      <td>BBPACGBUVJUXF</td>\n",
       "      <td>Ads</td>\n",
       "      <td>Chrome</td>\n",
       "      <td>F</td>\n",
       "      <td>38</td>\n",
       "      <td>2.001426e+09</td>\n",
       "      <td>1</td>\n",
       "      <td>Korea Republic of</td>\n",
       "    </tr>\n",
       "    <tr>\n",
       "      <th>3</th>\n",
       "      <td>356414</td>\n",
       "      <td>2015-01-01 00:00:46</td>\n",
       "      <td>2015-01-01 00:00:47</td>\n",
       "      <td>14</td>\n",
       "      <td>BBPACGBUVJUXF</td>\n",
       "      <td>Ads</td>\n",
       "      <td>Chrome</td>\n",
       "      <td>F</td>\n",
       "      <td>38</td>\n",
       "      <td>2.001426e+09</td>\n",
       "      <td>1</td>\n",
       "      <td>Korea Republic of</td>\n",
       "    </tr>\n",
       "    <tr>\n",
       "      <th>4</th>\n",
       "      <td>338656</td>\n",
       "      <td>2015-01-01 00:00:47</td>\n",
       "      <td>2015-01-01 00:00:48</td>\n",
       "      <td>14</td>\n",
       "      <td>BBPACGBUVJUXF</td>\n",
       "      <td>Ads</td>\n",
       "      <td>Chrome</td>\n",
       "      <td>F</td>\n",
       "      <td>38</td>\n",
       "      <td>2.001426e+09</td>\n",
       "      <td>1</td>\n",
       "      <td>Korea Republic of</td>\n",
       "    </tr>\n",
       "  </tbody>\n",
       "</table>\n",
       "</div>"
      ],
      "text/plain": [
       "   user_id          signup_time        purchase_time  purchase_value  \\\n",
       "0   309557  2015-01-01 00:00:43  2015-01-01 00:00:44              14   \n",
       "1   124539  2015-01-01 00:00:44  2015-01-01 00:00:45              14   \n",
       "2   161246  2015-01-01 00:00:45  2015-01-01 00:00:46              14   \n",
       "3   356414  2015-01-01 00:00:46  2015-01-01 00:00:47              14   \n",
       "4   338656  2015-01-01 00:00:47  2015-01-01 00:00:48              14   \n",
       "\n",
       "       device_id source browser sex  age    ip_address  class  \\\n",
       "0  BBPACGBUVJUXF    Ads  Chrome   F   38  2.001426e+09      1   \n",
       "1  BBPACGBUVJUXF    Ads  Chrome   F   38  2.001426e+09      1   \n",
       "2  BBPACGBUVJUXF    Ads  Chrome   F   38  2.001426e+09      1   \n",
       "3  BBPACGBUVJUXF    Ads  Chrome   F   38  2.001426e+09      1   \n",
       "4  BBPACGBUVJUXF    Ads  Chrome   F   38  2.001426e+09      1   \n",
       "\n",
       "             country  \n",
       "0  Korea Republic of  \n",
       "1  Korea Republic of  \n",
       "2  Korea Republic of  \n",
       "3  Korea Republic of  \n",
       "4  Korea Republic of  "
      ]
     },
     "execution_count": 3,
     "metadata": {},
     "output_type": "execute_result"
    }
   ],
   "source": [
    "data.head(5)"
   ]
  },
  {
   "cell_type": "code",
   "execution_count": 4,
   "metadata": {
    "scrolled": false
   },
   "outputs": [
    {
     "data": {
      "text/html": [
       "<div>\n",
       "<style>\n",
       "    .dataframe thead tr:only-child th {\n",
       "        text-align: right;\n",
       "    }\n",
       "\n",
       "    .dataframe thead th {\n",
       "        text-align: left;\n",
       "    }\n",
       "\n",
       "    .dataframe tbody tr th {\n",
       "        vertical-align: top;\n",
       "    }\n",
       "</style>\n",
       "<table border=\"1\" class=\"dataframe\">\n",
       "  <thead>\n",
       "    <tr style=\"text-align: right;\">\n",
       "      <th></th>\n",
       "      <th>user_id</th>\n",
       "      <th>signup_time</th>\n",
       "      <th>purchase_time</th>\n",
       "      <th>purchase_value</th>\n",
       "      <th>device_id</th>\n",
       "      <th>source</th>\n",
       "      <th>browser</th>\n",
       "      <th>sex</th>\n",
       "      <th>age</th>\n",
       "      <th>ip_address</th>\n",
       "      <th>class</th>\n",
       "      <th>country</th>\n",
       "    </tr>\n",
       "  </thead>\n",
       "  <tbody>\n",
       "    <tr>\n",
       "      <th>0</th>\n",
       "      <td>105643</td>\n",
       "      <td>2015-06-16 03:16:51</td>\n",
       "      <td>2015-08-05 11:07:00</td>\n",
       "      <td>31</td>\n",
       "      <td>WPMJAGOECDQUW</td>\n",
       "      <td>SEO</td>\n",
       "      <td>IE</td>\n",
       "      <td>M</td>\n",
       "      <td>26</td>\n",
       "      <td>2.278424e+08</td>\n",
       "      <td>0</td>\n",
       "      <td>United States</td>\n",
       "    </tr>\n",
       "    <tr>\n",
       "      <th>1</th>\n",
       "      <td>335148</td>\n",
       "      <td>2015-06-17 15:52:29</td>\n",
       "      <td>2015-08-05 11:08:15</td>\n",
       "      <td>15</td>\n",
       "      <td>YJTJVFXRAXKEF</td>\n",
       "      <td>Ads</td>\n",
       "      <td>Safari</td>\n",
       "      <td>M</td>\n",
       "      <td>23</td>\n",
       "      <td>3.180737e+09</td>\n",
       "      <td>0</td>\n",
       "      <td>Mexico</td>\n",
       "    </tr>\n",
       "    <tr>\n",
       "      <th>2</th>\n",
       "      <td>107216</td>\n",
       "      <td>2015-07-11 16:37:44</td>\n",
       "      <td>2015-08-05 11:08:15</td>\n",
       "      <td>33</td>\n",
       "      <td>DWJEHIJRXGSNR</td>\n",
       "      <td>Direct</td>\n",
       "      <td>FireFox</td>\n",
       "      <td>M</td>\n",
       "      <td>19</td>\n",
       "      <td>1.493759e+09</td>\n",
       "      <td>0</td>\n",
       "      <td>Norway</td>\n",
       "    </tr>\n",
       "    <tr>\n",
       "      <th>3</th>\n",
       "      <td>333106</td>\n",
       "      <td>2015-06-23 06:21:39</td>\n",
       "      <td>2015-08-05 11:10:37</td>\n",
       "      <td>31</td>\n",
       "      <td>UASFNUFBZUHFI</td>\n",
       "      <td>Ads</td>\n",
       "      <td>Safari</td>\n",
       "      <td>F</td>\n",
       "      <td>47</td>\n",
       "      <td>1.382136e+09</td>\n",
       "      <td>0</td>\n",
       "      <td>Germany</td>\n",
       "    </tr>\n",
       "    <tr>\n",
       "      <th>4</th>\n",
       "      <td>59781</td>\n",
       "      <td>2015-06-14 20:05:45</td>\n",
       "      <td>2015-08-05 11:13:41</td>\n",
       "      <td>23</td>\n",
       "      <td>FZGBBUXLMXQDQ</td>\n",
       "      <td>SEO</td>\n",
       "      <td>Chrome</td>\n",
       "      <td>M</td>\n",
       "      <td>34</td>\n",
       "      <td>1.387652e+09</td>\n",
       "      <td>0</td>\n",
       "      <td>Finland</td>\n",
       "    </tr>\n",
       "  </tbody>\n",
       "</table>\n",
       "</div>"
      ],
      "text/plain": [
       "   user_id          signup_time        purchase_time  purchase_value  \\\n",
       "0   105643  2015-06-16 03:16:51  2015-08-05 11:07:00              31   \n",
       "1   335148  2015-06-17 15:52:29  2015-08-05 11:08:15              15   \n",
       "2   107216  2015-07-11 16:37:44  2015-08-05 11:08:15              33   \n",
       "3   333106  2015-06-23 06:21:39  2015-08-05 11:10:37              31   \n",
       "4    59781  2015-06-14 20:05:45  2015-08-05 11:13:41              23   \n",
       "\n",
       "       device_id  source  browser sex  age    ip_address  class        country  \n",
       "0  WPMJAGOECDQUW     SEO       IE   M   26  2.278424e+08      0  United States  \n",
       "1  YJTJVFXRAXKEF     Ads   Safari   M   23  3.180737e+09      0         Mexico  \n",
       "2  DWJEHIJRXGSNR  Direct  FireFox   M   19  1.493759e+09      0         Norway  \n",
       "3  UASFNUFBZUHFI     Ads   Safari   F   47  1.382136e+09      0        Germany  \n",
       "4  FZGBBUXLMXQDQ     SEO   Chrome   M   34  1.387652e+09      0        Finland  "
      ]
     },
     "execution_count": 4,
     "metadata": {},
     "output_type": "execute_result"
    }
   ],
   "source": [
    "test.head()"
   ]
  },
  {
   "cell_type": "code",
   "execution_count": 5,
   "metadata": {
    "scrolled": true
   },
   "outputs": [
    {
     "name": "stdout",
     "output_type": "stream",
     "text": [
      "<class 'pandas.core.frame.DataFrame'>\n",
      "RangeIndex: 105778 entries, 0 to 105777\n",
      "Data columns (total 12 columns):\n",
      "user_id           105778 non-null int64\n",
      "signup_time       105778 non-null object\n",
      "purchase_time     105778 non-null object\n",
      "purchase_value    105778 non-null int64\n",
      "device_id         105778 non-null object\n",
      "source            105778 non-null object\n",
      "browser           105778 non-null object\n",
      "sex               105778 non-null object\n",
      "age               105778 non-null int64\n",
      "ip_address        105778 non-null float64\n",
      "class             105778 non-null int64\n",
      "country           90440 non-null object\n",
      "dtypes: float64(1), int64(4), object(7)\n",
      "memory usage: 9.7+ MB\n"
     ]
    }
   ],
   "source": [
    "data.info()"
   ]
  },
  {
   "cell_type": "code",
   "execution_count": 6,
   "metadata": {
    "scrolled": true
   },
   "outputs": [
    {
     "name": "stdout",
     "output_type": "stream",
     "text": [
      "<class 'pandas.core.frame.DataFrame'>\n",
      "RangeIndex: 45334 entries, 0 to 45333\n",
      "Data columns (total 12 columns):\n",
      "user_id           45334 non-null int64\n",
      "signup_time       45334 non-null object\n",
      "purchase_time     45334 non-null object\n",
      "purchase_value    45334 non-null int64\n",
      "device_id         45334 non-null object\n",
      "source            45334 non-null object\n",
      "browser           45334 non-null object\n",
      "sex               45334 non-null object\n",
      "age               45334 non-null int64\n",
      "ip_address        45334 non-null float64\n",
      "class             45334 non-null int64\n",
      "country           38706 non-null object\n",
      "dtypes: float64(1), int64(4), object(7)\n",
      "memory usage: 4.2+ MB\n"
     ]
    }
   ],
   "source": [
    "test.info()"
   ]
  },
  {
   "cell_type": "markdown",
   "metadata": {},
   "source": [
    "# Step 2: Learn something about data"
   ]
  },
  {
   "cell_type": "markdown",
   "metadata": {},
   "source": [
    "Calculate contribution of the testing data in the entire (training + testing data)."
   ]
  },
  {
   "cell_type": "code",
   "execution_count": 7,
   "metadata": {
    "scrolled": true
   },
   "outputs": [
    {
     "name": "stdout",
     "output_type": "stream",
     "text": [
      "30.000264704325268  %\n"
     ]
    }
   ],
   "source": [
    "print(len(test)/(len(test)+len(data))*100,' %')"
   ]
  },
  {
   "cell_type": "markdown",
   "metadata": {},
   "source": [
    "We count the number of frauds in the overall training and testing data samples."
   ]
  },
  {
   "cell_type": "code",
   "execution_count": 8,
   "metadata": {},
   "outputs": [
    {
     "name": "stdout",
     "output_type": "stream",
     "text": [
      "Frauds in training sample:\n",
      " 11.417307946832045  %\n",
      "Frauds in test sample:\n",
      " 4.574932721577624  %\n"
     ]
    }
   ],
   "source": [
    "print('Frauds in training sample:\\n', len(data[data['class']==1])/len(data)*100, ' %')\n",
    "print('Frauds in test sample:\\n', len(test[test['class']==1])/len(test)*100, ' %')"
   ]
  },
  {
   "cell_type": "code",
   "execution_count": 9,
   "metadata": {},
   "outputs": [
    {
     "name": "stdout",
     "output_type": "stream",
     "text": [
      "Train columns with null values:\n",
      " user_id               0\n",
      "signup_time           0\n",
      "purchase_time         0\n",
      "purchase_value        0\n",
      "device_id             0\n",
      "source                0\n",
      "browser               0\n",
      "sex                   0\n",
      "age                   0\n",
      "ip_address            0\n",
      "class                 0\n",
      "country           15338\n",
      "dtype: int64\n",
      "----------\n",
      "Test/Validation columns with null values:\n",
      " user_id              0\n",
      "signup_time          0\n",
      "purchase_time        0\n",
      "purchase_value       0\n",
      "device_id            0\n",
      "source               0\n",
      "browser              0\n",
      "sex                  0\n",
      "age                  0\n",
      "ip_address           0\n",
      "class                0\n",
      "country           6628\n",
      "dtype: int64\n",
      "----------\n"
     ]
    }
   ],
   "source": [
    "print('Train columns with null values:\\n', data.isnull().sum())\n",
    "print(\"-\"*10)\n",
    "print('Test/Validation columns with null values:\\n', test.isnull().sum())\n",
    "print(\"-\"*10)"
   ]
  },
  {
   "cell_type": "markdown",
   "metadata": {},
   "source": [
    "We create 2 additional columns in training and test data set to calculate absolute time differences for signup and purchase times, we choose data['signup_time'][0] as zero-time."
   ]
  },
  {
   "cell_type": "code",
   "execution_count": 10,
   "metadata": {
    "collapsed": true
   },
   "outputs": [],
   "source": [
    "data['diff1'] = (pd.to_datetime(data['signup_time']) - pd.to_datetime(data['signup_time'][0])).astype('timedelta64[h]')\n",
    "data['diff2'] = (pd.to_datetime(data['purchase_time']) - pd.to_datetime(data['signup_time'][0])).astype('timedelta64[h]')\n",
    "test['diff1'] = (pd.to_datetime(test['signup_time']) - pd.to_datetime(data['signup_time'][0])).astype('timedelta64[h]')\n",
    "test['diff2'] = (pd.to_datetime(test['purchase_time']) - pd.to_datetime(data['signup_time'][0])).astype('timedelta64[h]')"
   ]
  },
  {
   "cell_type": "code",
   "execution_count": 11,
   "metadata": {},
   "outputs": [
    {
     "data": {
      "text/plain": [
       "Text(0.5,1,'test_diff2')"
      ]
     },
     "execution_count": 11,
     "metadata": {},
     "output_type": "execute_result"
    },
    {
     "data": {
      "image/png": "[encoded data removed]",
      "text/plain": [
       "<matplotlib.figure.Figure at 0x7f41d733d048>"
      ]
     },
     "metadata": {},
     "output_type": "display_data"
    }
   ],
   "source": [
    "fig, axes = plt.subplots(nrows=2, ncols=2, figsize=(10, 10))\n",
    "data['diff1'][0:2000].plot(ax=axes[0,0]); axes[0,0].set_title('data_diff1')\n",
    "data['diff2'][0:2000].plot(ax=axes[0,1]); axes[0,1].set_title('data_diff2')\n",
    "test['diff1'][0:2000].plot(ax=axes[1,0]); axes[1,0].set_title('test_diff1')\n",
    "test['diff2'][0:2000].plot(ax=axes[1,1]); axes[1,1].set_title('test_diff2')"
   ]
  },
  {
   "cell_type": "markdown",
   "metadata": {},
   "source": [
    "#### It is now clear how the data is organized into training and test data. It is sorted according to purchase time and simply first 70% of data is put into training set, while the remaining 30% constitutes test set."
   ]
  },
  {
   "cell_type": "markdown",
   "metadata": {},
   "source": [
    "# Step 3: Prepare our data for analysis"
   ]
  },
  {
   "cell_type": "markdown",
   "metadata": {},
   "source": [
    "We merge columns **signup_time** i **purchase_time** into single column which represents their difference, i.e. time between the signup on the site and first transaction by the user. We denote this column with **Dt** and represent it in hours."
   ]
  },
  {
   "cell_type": "code",
   "execution_count": 12,
   "metadata": {
    "collapsed": true
   },
   "outputs": [],
   "source": [
    "data['Dt'] = (pd.to_datetime(data['purchase_time']) - pd.to_datetime(data['signup_time'])).astype('timedelta64[h]')\n",
    "test['Dt'] = (pd.to_datetime(test['purchase_time']) - pd.to_datetime(test['signup_time'])).astype('timedelta64[h]')"
   ]
  },
  {
   "cell_type": "markdown",
   "metadata": {},
   "source": [
    "We won't drop rows cointaing unknown country, but introduce new category for country, simply called <b>\"Unknown\"</b>"
   ]
  },
  {
   "cell_type": "code",
   "execution_count": 13,
   "metadata": {
    "collapsed": true
   },
   "outputs": [],
   "source": [
    "data = data.fillna({\"country\": \"Unknown\"})\n",
    "test = test.fillna({\"country\": \"Unknown\"})"
   ]
  },
  {
   "cell_type": "code",
   "execution_count": 14,
   "metadata": {
    "scrolled": true
   },
   "outputs": [
    {
     "data": {
      "text/html": [
       "<div>\n",
       "<style>\n",
       "    .dataframe thead tr:only-child th {\n",
       "        text-align: right;\n",
       "    }\n",
       "\n",
       "    .dataframe thead th {\n",
       "        text-align: left;\n",
       "    }\n",
       "\n",
       "    .dataframe tbody tr th {\n",
       "        vertical-align: top;\n",
       "    }\n",
       "</style>\n",
       "<table border=\"1\" class=\"dataframe\">\n",
       "  <thead>\n",
       "    <tr style=\"text-align: right;\">\n",
       "      <th></th>\n",
       "      <th>user_id</th>\n",
       "      <th>signup_time</th>\n",
       "      <th>purchase_time</th>\n",
       "      <th>purchase_value</th>\n",
       "      <th>device_id</th>\n",
       "      <th>source</th>\n",
       "      <th>browser</th>\n",
       "      <th>sex</th>\n",
       "      <th>age</th>\n",
       "      <th>ip_address</th>\n",
       "      <th>class</th>\n",
       "      <th>country</th>\n",
       "      <th>diff1</th>\n",
       "      <th>diff2</th>\n",
       "      <th>Dt</th>\n",
       "    </tr>\n",
       "  </thead>\n",
       "  <tbody>\n",
       "    <tr>\n",
       "      <th>0</th>\n",
       "      <td>309557</td>\n",
       "      <td>2015-01-01 00:00:43</td>\n",
       "      <td>2015-01-01 00:00:44</td>\n",
       "      <td>14</td>\n",
       "      <td>BBPACGBUVJUXF</td>\n",
       "      <td>Ads</td>\n",
       "      <td>Chrome</td>\n",
       "      <td>F</td>\n",
       "      <td>38</td>\n",
       "      <td>2.001426e+09</td>\n",
       "      <td>1</td>\n",
       "      <td>Korea Republic of</td>\n",
       "      <td>0.0</td>\n",
       "      <td>0.0</td>\n",
       "      <td>0.0</td>\n",
       "    </tr>\n",
       "    <tr>\n",
       "      <th>1</th>\n",
       "      <td>124539</td>\n",
       "      <td>2015-01-01 00:00:44</td>\n",
       "      <td>2015-01-01 00:00:45</td>\n",
       "      <td>14</td>\n",
       "      <td>BBPACGBUVJUXF</td>\n",
       "      <td>Ads</td>\n",
       "      <td>Chrome</td>\n",
       "      <td>F</td>\n",
       "      <td>38</td>\n",
       "      <td>2.001426e+09</td>\n",
       "      <td>1</td>\n",
       "      <td>Korea Republic of</td>\n",
       "      <td>0.0</td>\n",
       "      <td>0.0</td>\n",
       "      <td>0.0</td>\n",
       "    </tr>\n",
       "    <tr>\n",
       "      <th>2</th>\n",
       "      <td>161246</td>\n",
       "      <td>2015-01-01 00:00:45</td>\n",
       "      <td>2015-01-01 00:00:46</td>\n",
       "      <td>14</td>\n",
       "      <td>BBPACGBUVJUXF</td>\n",
       "      <td>Ads</td>\n",
       "      <td>Chrome</td>\n",
       "      <td>F</td>\n",
       "      <td>38</td>\n",
       "      <td>2.001426e+09</td>\n",
       "      <td>1</td>\n",
       "      <td>Korea Republic of</td>\n",
       "      <td>0.0</td>\n",
       "      <td>0.0</td>\n",
       "      <td>0.0</td>\n",
       "    </tr>\n",
       "    <tr>\n",
       "      <th>3</th>\n",
       "      <td>356414</td>\n",
       "      <td>2015-01-01 00:00:46</td>\n",
       "      <td>2015-01-01 00:00:47</td>\n",
       "      <td>14</td>\n",
       "      <td>BBPACGBUVJUXF</td>\n",
       "      <td>Ads</td>\n",
       "      <td>Chrome</td>\n",
       "      <td>F</td>\n",
       "      <td>38</td>\n",
       "      <td>2.001426e+09</td>\n",
       "      <td>1</td>\n",
       "      <td>Korea Republic of</td>\n",
       "      <td>0.0</td>\n",
       "      <td>0.0</td>\n",
       "      <td>0.0</td>\n",
       "    </tr>\n",
       "    <tr>\n",
       "      <th>4</th>\n",
       "      <td>338656</td>\n",
       "      <td>2015-01-01 00:00:47</td>\n",
       "      <td>2015-01-01 00:00:48</td>\n",
       "      <td>14</td>\n",
       "      <td>BBPACGBUVJUXF</td>\n",
       "      <td>Ads</td>\n",
       "      <td>Chrome</td>\n",
       "      <td>F</td>\n",
       "      <td>38</td>\n",
       "      <td>2.001426e+09</td>\n",
       "      <td>1</td>\n",
       "      <td>Korea Republic of</td>\n",
       "      <td>0.0</td>\n",
       "      <td>0.0</td>\n",
       "      <td>0.0</td>\n",
       "    </tr>\n",
       "  </tbody>\n",
       "</table>\n",
       "</div>"
      ],
      "text/plain": [
       "   user_id          signup_time        purchase_time  purchase_value  \\\n",
       "0   309557  2015-01-01 00:00:43  2015-01-01 00:00:44              14   \n",
       "1   124539  2015-01-01 00:00:44  2015-01-01 00:00:45              14   \n",
       "2   161246  2015-01-01 00:00:45  2015-01-01 00:00:46              14   \n",
       "3   356414  2015-01-01 00:00:46  2015-01-01 00:00:47              14   \n",
       "4   338656  2015-01-01 00:00:47  2015-01-01 00:00:48              14   \n",
       "\n",
       "       device_id source browser sex  age    ip_address  class  \\\n",
       "0  BBPACGBUVJUXF    Ads  Chrome   F   38  2.001426e+09      1   \n",
       "1  BBPACGBUVJUXF    Ads  Chrome   F   38  2.001426e+09      1   \n",
       "2  BBPACGBUVJUXF    Ads  Chrome   F   38  2.001426e+09      1   \n",
       "3  BBPACGBUVJUXF    Ads  Chrome   F   38  2.001426e+09      1   \n",
       "4  BBPACGBUVJUXF    Ads  Chrome   F   38  2.001426e+09      1   \n",
       "\n",
       "             country  diff1  diff2   Dt  \n",
       "0  Korea Republic of    0.0    0.0  0.0  \n",
       "1  Korea Republic of    0.0    0.0  0.0  \n",
       "2  Korea Republic of    0.0    0.0  0.0  \n",
       "3  Korea Republic of    0.0    0.0  0.0  \n",
       "4  Korea Republic of    0.0    0.0  0.0  "
      ]
     },
     "execution_count": 14,
     "metadata": {},
     "output_type": "execute_result"
    }
   ],
   "source": [
    "data.head()"
   ]
  },
  {
   "cell_type": "markdown",
   "metadata": {},
   "source": [
    "Let's encode country names."
   ]
  },
  {
   "cell_type": "code",
   "execution_count": 15,
   "metadata": {
    "collapsed": true
   },
   "outputs": [],
   "source": [
    "my_dict = {}\n",
    "count = -1\n",
    "f =  open(\"Data/countries.csv\", 'r')\n",
    "for line in f:\n",
    "    if count>-1:\n",
    "        key, values = line.rstrip(), count\n",
    "        my_dict[key] = values\n",
    "    count = count + 1"
   ]
  },
  {
   "cell_type": "code",
   "execution_count": 16,
   "metadata": {
    "collapsed": true
   },
   "outputs": [],
   "source": [
    "cleanup_nums = {\"country\": my_dict}\n",
    "data.replace(cleanup_nums, inplace=True)"
   ]
  },
  {
   "cell_type": "code",
   "execution_count": 17,
   "metadata": {},
   "outputs": [
    {
     "data": {
      "text/html": [
       "<div>\n",
       "<style>\n",
       "    .dataframe thead tr:only-child th {\n",
       "        text-align: right;\n",
       "    }\n",
       "\n",
       "    .dataframe thead th {\n",
       "        text-align: left;\n",
       "    }\n",
       "\n",
       "    .dataframe tbody tr th {\n",
       "        vertical-align: top;\n",
       "    }\n",
       "</style>\n",
       "<table border=\"1\" class=\"dataframe\">\n",
       "  <thead>\n",
       "    <tr style=\"text-align: right;\">\n",
       "      <th></th>\n",
       "      <th>user_id</th>\n",
       "      <th>signup_time</th>\n",
       "      <th>purchase_time</th>\n",
       "      <th>purchase_value</th>\n",
       "      <th>device_id</th>\n",
       "      <th>source</th>\n",
       "      <th>browser</th>\n",
       "      <th>sex</th>\n",
       "      <th>age</th>\n",
       "      <th>ip_address</th>\n",
       "      <th>class</th>\n",
       "      <th>country</th>\n",
       "      <th>diff1</th>\n",
       "      <th>diff2</th>\n",
       "      <th>Dt</th>\n",
       "    </tr>\n",
       "  </thead>\n",
       "  <tbody>\n",
       "    <tr>\n",
       "      <th>0</th>\n",
       "      <td>309557</td>\n",
       "      <td>2015-01-01 00:00:43</td>\n",
       "      <td>2015-01-01 00:00:44</td>\n",
       "      <td>14</td>\n",
       "      <td>BBPACGBUVJUXF</td>\n",
       "      <td>Ads</td>\n",
       "      <td>Chrome</td>\n",
       "      <td>F</td>\n",
       "      <td>38</td>\n",
       "      <td>2.001426e+09</td>\n",
       "      <td>1</td>\n",
       "      <td>13</td>\n",
       "      <td>0.0</td>\n",
       "      <td>0.0</td>\n",
       "      <td>0.0</td>\n",
       "    </tr>\n",
       "    <tr>\n",
       "      <th>1</th>\n",
       "      <td>124539</td>\n",
       "      <td>2015-01-01 00:00:44</td>\n",
       "      <td>2015-01-01 00:00:45</td>\n",
       "      <td>14</td>\n",
       "      <td>BBPACGBUVJUXF</td>\n",
       "      <td>Ads</td>\n",
       "      <td>Chrome</td>\n",
       "      <td>F</td>\n",
       "      <td>38</td>\n",
       "      <td>2.001426e+09</td>\n",
       "      <td>1</td>\n",
       "      <td>13</td>\n",
       "      <td>0.0</td>\n",
       "      <td>0.0</td>\n",
       "      <td>0.0</td>\n",
       "    </tr>\n",
       "    <tr>\n",
       "      <th>2</th>\n",
       "      <td>161246</td>\n",
       "      <td>2015-01-01 00:00:45</td>\n",
       "      <td>2015-01-01 00:00:46</td>\n",
       "      <td>14</td>\n",
       "      <td>BBPACGBUVJUXF</td>\n",
       "      <td>Ads</td>\n",
       "      <td>Chrome</td>\n",
       "      <td>F</td>\n",
       "      <td>38</td>\n",
       "      <td>2.001426e+09</td>\n",
       "      <td>1</td>\n",
       "      <td>13</td>\n",
       "      <td>0.0</td>\n",
       "      <td>0.0</td>\n",
       "      <td>0.0</td>\n",
       "    </tr>\n",
       "    <tr>\n",
       "      <th>3</th>\n",
       "      <td>356414</td>\n",
       "      <td>2015-01-01 00:00:46</td>\n",
       "      <td>2015-01-01 00:00:47</td>\n",
       "      <td>14</td>\n",
       "      <td>BBPACGBUVJUXF</td>\n",
       "      <td>Ads</td>\n",
       "      <td>Chrome</td>\n",
       "      <td>F</td>\n",
       "      <td>38</td>\n",
       "      <td>2.001426e+09</td>\n",
       "      <td>1</td>\n",
       "      <td>13</td>\n",
       "      <td>0.0</td>\n",
       "      <td>0.0</td>\n",
       "      <td>0.0</td>\n",
       "    </tr>\n",
       "    <tr>\n",
       "      <th>4</th>\n",
       "      <td>338656</td>\n",
       "      <td>2015-01-01 00:00:47</td>\n",
       "      <td>2015-01-01 00:00:48</td>\n",
       "      <td>14</td>\n",
       "      <td>BBPACGBUVJUXF</td>\n",
       "      <td>Ads</td>\n",
       "      <td>Chrome</td>\n",
       "      <td>F</td>\n",
       "      <td>38</td>\n",
       "      <td>2.001426e+09</td>\n",
       "      <td>1</td>\n",
       "      <td>13</td>\n",
       "      <td>0.0</td>\n",
       "      <td>0.0</td>\n",
       "      <td>0.0</td>\n",
       "    </tr>\n",
       "  </tbody>\n",
       "</table>\n",
       "</div>"
      ],
      "text/plain": [
       "   user_id          signup_time        purchase_time  purchase_value  \\\n",
       "0   309557  2015-01-01 00:00:43  2015-01-01 00:00:44              14   \n",
       "1   124539  2015-01-01 00:00:44  2015-01-01 00:00:45              14   \n",
       "2   161246  2015-01-01 00:00:45  2015-01-01 00:00:46              14   \n",
       "3   356414  2015-01-01 00:00:46  2015-01-01 00:00:47              14   \n",
       "4   338656  2015-01-01 00:00:47  2015-01-01 00:00:48              14   \n",
       "\n",
       "       device_id source browser sex  age    ip_address  class  country  diff1  \\\n",
       "0  BBPACGBUVJUXF    Ads  Chrome   F   38  2.001426e+09      1       13    0.0   \n",
       "1  BBPACGBUVJUXF    Ads  Chrome   F   38  2.001426e+09      1       13    0.0   \n",
       "2  BBPACGBUVJUXF    Ads  Chrome   F   38  2.001426e+09      1       13    0.0   \n",
       "3  BBPACGBUVJUXF    Ads  Chrome   F   38  2.001426e+09      1       13    0.0   \n",
       "4  BBPACGBUVJUXF    Ads  Chrome   F   38  2.001426e+09      1       13    0.0   \n",
       "\n",
       "   diff2   Dt  \n",
       "0    0.0  0.0  \n",
       "1    0.0  0.0  \n",
       "2    0.0  0.0  \n",
       "3    0.0  0.0  \n",
       "4    0.0  0.0  "
      ]
     },
     "execution_count": 17,
     "metadata": {},
     "output_type": "execute_result"
    }
   ],
   "source": [
    "data.head(5)"
   ]
  },
  {
   "cell_type": "code",
   "execution_count": 18,
   "metadata": {},
   "outputs": [
    {
     "data": {
      "text/plain": [
       "SEO       42438\n",
       "Ads       41879\n",
       "Direct    21461\n",
       "Name: source, dtype: int64"
      ]
     },
     "execution_count": 18,
     "metadata": {},
     "output_type": "execute_result"
    }
   ],
   "source": [
    "data['source'].value_counts()"
   ]
  },
  {
   "cell_type": "code",
   "execution_count": 19,
   "metadata": {},
   "outputs": [
    {
     "data": {
      "text/plain": [
       "Chrome     43149\n",
       "IE         25623\n",
       "FireFox    17231\n",
       "Safari     17196\n",
       "Opera       2579\n",
       "Name: browser, dtype: int64"
      ]
     },
     "execution_count": 19,
     "metadata": {},
     "output_type": "execute_result"
    }
   ],
   "source": [
    "data['browser'].value_counts()"
   ]
  },
  {
   "cell_type": "code",
   "execution_count": 20,
   "metadata": {
    "collapsed": true
   },
   "outputs": [],
   "source": [
    "source_dict = {'SEO' : '0','Ads' : '1', 'Direct' : '2'}\n",
    "browser_dict = {'Chrome' : '0','IE' : '1', 'Safari' : '2', 'FireFox' : '3', 'Opera': '4'}"
   ]
  },
  {
   "cell_type": "code",
   "execution_count": 21,
   "metadata": {
    "collapsed": true
   },
   "outputs": [],
   "source": [
    "cleanup_nums = {\"source\": source_dict}\n",
    "data.replace(cleanup_nums, inplace=True)\n",
    "cleanup_nums = {\"browser\": browser_dict}\n",
    "data.replace(cleanup_nums, inplace=True)"
   ]
  },
  {
   "cell_type": "code",
   "execution_count": 22,
   "metadata": {
    "collapsed": true
   },
   "outputs": [],
   "source": [
    "sex_dict = {'M' : '0','F' : '1'}"
   ]
  },
  {
   "cell_type": "code",
   "execution_count": 23,
   "metadata": {
    "collapsed": true
   },
   "outputs": [],
   "source": [
    "cleanup_nums = {\"sex\": sex_dict}\n",
    "data.replace(cleanup_nums, inplace=True)"
   ]
  },
  {
   "cell_type": "code",
   "execution_count": 24,
   "metadata": {
    "scrolled": false
   },
   "outputs": [
    {
     "data": {
      "text/html": [
       "<div>\n",
       "<style>\n",
       "    .dataframe thead tr:only-child th {\n",
       "        text-align: right;\n",
       "    }\n",
       "\n",
       "    .dataframe thead th {\n",
       "        text-align: left;\n",
       "    }\n",
       "\n",
       "    .dataframe tbody tr th {\n",
       "        vertical-align: top;\n",
       "    }\n",
       "</style>\n",
       "<table border=\"1\" class=\"dataframe\">\n",
       "  <thead>\n",
       "    <tr style=\"text-align: right;\">\n",
       "      <th></th>\n",
       "      <th>user_id</th>\n",
       "      <th>signup_time</th>\n",
       "      <th>purchase_time</th>\n",
       "      <th>purchase_value</th>\n",
       "      <th>device_id</th>\n",
       "      <th>source</th>\n",
       "      <th>browser</th>\n",
       "      <th>sex</th>\n",
       "      <th>age</th>\n",
       "      <th>ip_address</th>\n",
       "      <th>class</th>\n",
       "      <th>country</th>\n",
       "      <th>diff1</th>\n",
       "      <th>diff2</th>\n",
       "      <th>Dt</th>\n",
       "    </tr>\n",
       "  </thead>\n",
       "  <tbody>\n",
       "    <tr>\n",
       "      <th>0</th>\n",
       "      <td>309557</td>\n",
       "      <td>2015-01-01 00:00:43</td>\n",
       "      <td>2015-01-01 00:00:44</td>\n",
       "      <td>14</td>\n",
       "      <td>BBPACGBUVJUXF</td>\n",
       "      <td>1</td>\n",
       "      <td>0</td>\n",
       "      <td>1</td>\n",
       "      <td>38</td>\n",
       "      <td>2.001426e+09</td>\n",
       "      <td>1</td>\n",
       "      <td>13</td>\n",
       "      <td>0.0</td>\n",
       "      <td>0.0</td>\n",
       "      <td>0.0</td>\n",
       "    </tr>\n",
       "    <tr>\n",
       "      <th>1</th>\n",
       "      <td>124539</td>\n",
       "      <td>2015-01-01 00:00:44</td>\n",
       "      <td>2015-01-01 00:00:45</td>\n",
       "      <td>14</td>\n",
       "      <td>BBPACGBUVJUXF</td>\n",
       "      <td>1</td>\n",
       "      <td>0</td>\n",
       "      <td>1</td>\n",
       "      <td>38</td>\n",
       "      <td>2.001426e+09</td>\n",
       "      <td>1</td>\n",
       "      <td>13</td>\n",
       "      <td>0.0</td>\n",
       "      <td>0.0</td>\n",
       "      <td>0.0</td>\n",
       "    </tr>\n",
       "    <tr>\n",
       "      <th>2</th>\n",
       "      <td>161246</td>\n",
       "      <td>2015-01-01 00:00:45</td>\n",
       "      <td>2015-01-01 00:00:46</td>\n",
       "      <td>14</td>\n",
       "      <td>BBPACGBUVJUXF</td>\n",
       "      <td>1</td>\n",
       "      <td>0</td>\n",
       "      <td>1</td>\n",
       "      <td>38</td>\n",
       "      <td>2.001426e+09</td>\n",
       "      <td>1</td>\n",
       "      <td>13</td>\n",
       "      <td>0.0</td>\n",
       "      <td>0.0</td>\n",
       "      <td>0.0</td>\n",
       "    </tr>\n",
       "    <tr>\n",
       "      <th>3</th>\n",
       "      <td>356414</td>\n",
       "      <td>2015-01-01 00:00:46</td>\n",
       "      <td>2015-01-01 00:00:47</td>\n",
       "      <td>14</td>\n",
       "      <td>BBPACGBUVJUXF</td>\n",
       "      <td>1</td>\n",
       "      <td>0</td>\n",
       "      <td>1</td>\n",
       "      <td>38</td>\n",
       "      <td>2.001426e+09</td>\n",
       "      <td>1</td>\n",
       "      <td>13</td>\n",
       "      <td>0.0</td>\n",
       "      <td>0.0</td>\n",
       "      <td>0.0</td>\n",
       "    </tr>\n",
       "    <tr>\n",
       "      <th>4</th>\n",
       "      <td>338656</td>\n",
       "      <td>2015-01-01 00:00:47</td>\n",
       "      <td>2015-01-01 00:00:48</td>\n",
       "      <td>14</td>\n",
       "      <td>BBPACGBUVJUXF</td>\n",
       "      <td>1</td>\n",
       "      <td>0</td>\n",
       "      <td>1</td>\n",
       "      <td>38</td>\n",
       "      <td>2.001426e+09</td>\n",
       "      <td>1</td>\n",
       "      <td>13</td>\n",
       "      <td>0.0</td>\n",
       "      <td>0.0</td>\n",
       "      <td>0.0</td>\n",
       "    </tr>\n",
       "  </tbody>\n",
       "</table>\n",
       "</div>"
      ],
      "text/plain": [
       "   user_id          signup_time        purchase_time  purchase_value  \\\n",
       "0   309557  2015-01-01 00:00:43  2015-01-01 00:00:44              14   \n",
       "1   124539  2015-01-01 00:00:44  2015-01-01 00:00:45              14   \n",
       "2   161246  2015-01-01 00:00:45  2015-01-01 00:00:46              14   \n",
       "3   356414  2015-01-01 00:00:46  2015-01-01 00:00:47              14   \n",
       "4   338656  2015-01-01 00:00:47  2015-01-01 00:00:48              14   \n",
       "\n",
       "       device_id source browser sex  age    ip_address  class  country  diff1  \\\n",
       "0  BBPACGBUVJUXF      1       0   1   38  2.001426e+09      1       13    0.0   \n",
       "1  BBPACGBUVJUXF      1       0   1   38  2.001426e+09      1       13    0.0   \n",
       "2  BBPACGBUVJUXF      1       0   1   38  2.001426e+09      1       13    0.0   \n",
       "3  BBPACGBUVJUXF      1       0   1   38  2.001426e+09      1       13    0.0   \n",
       "4  BBPACGBUVJUXF      1       0   1   38  2.001426e+09      1       13    0.0   \n",
       "\n",
       "   diff2   Dt  \n",
       "0    0.0  0.0  \n",
       "1    0.0  0.0  \n",
       "2    0.0  0.0  \n",
       "3    0.0  0.0  \n",
       "4    0.0  0.0  "
      ]
     },
     "execution_count": 24,
     "metadata": {},
     "output_type": "execute_result"
    }
   ],
   "source": [
    "data.head(5)"
   ]
  },
  {
   "cell_type": "markdown",
   "metadata": {},
   "source": []
  },
  {
   "cell_type": "markdown",
   "metadata": {},
   "source": [
    "# Step 4: Feature analysis"
   ]
  },
  {
   "cell_type": "code",
   "execution_count": 25,
   "metadata": {},
   "outputs": [
    {
     "name": "stdout",
     "output_type": "stream",
     "text": [
      "class       0     1\n",
      "source             \n",
      "0       37803  4635\n",
      "1       37185  4694\n",
      "2       18713  2748\n"
     ]
    },
    {
     "data": {
      "image/png": "[encoded data removed]",
      "text/plain": [
       "<matplotlib.figure.Figure at 0x7f41d7376fd0>"
      ]
     },
     "metadata": {},
     "output_type": "display_data"
    }
   ],
   "source": [
    "cab = pd.crosstab(data['source'], data['class'])\n",
    "print(cab)\n",
    "dummy = cab.div(cab.sum(1).astype(float), axis=0).plot(kind=\"bar\", stacked=True)\n",
    "dummy = plt.xlabel('source')\n",
    "dummy = plt.ylabel('Percentage')"
   ]
  },
  {
   "cell_type": "code",
   "execution_count": 26,
   "metadata": {},
   "outputs": [
    {
     "name": "stdout",
     "output_type": "stream",
     "text": [
      "class      0     1\n",
      "sex               \n",
      "0      54687  7237\n",
      "1      39014  4840\n"
     ]
    },
    {
     "data": {
      "image/png": "[encoded data removed]",
      "text/plain": [
       "<matplotlib.figure.Figure at 0x7f41d7376ba8>"
      ]
     },
     "metadata": {},
     "output_type": "display_data"
    }
   ],
   "source": [
    "cab = pd.crosstab(data['sex'], data['class'])\n",
    "print(cab)\n",
    "dummy = cab.div(cab.sum(1).astype(float), axis=0).plot(kind=\"bar\", stacked=True)\n",
    "dummy = plt.xlabel('sex')\n",
    "dummy = plt.ylabel('percentage')"
   ]
  },
  {
   "cell_type": "code",
   "execution_count": 27,
   "metadata": {},
   "outputs": [
    {
     "name": "stdout",
     "output_type": "stream",
     "text": [
      "class        0     1\n",
      "browser             \n",
      "0        37907  5242\n",
      "1        22944  2679\n",
      "2        15317  1879\n",
      "3        15229  2002\n",
      "4         2304   275\n"
     ]
    },
    {
     "data": {
      "image/png": "[encoded data removed]",
      "text/plain": [
       "<matplotlib.figure.Figure at 0x7f41d46d7ba8>"
      ]
     },
     "metadata": {},
     "output_type": "display_data"
    }
   ],
   "source": [
    "cab = pd.crosstab(data['browser'], data['class'])\n",
    "print(cab)\n",
    "dummy = cab.div(cab.sum(1).astype(float), axis=0).plot(kind=\"bar\", stacked=True)\n",
    "dummy = plt.xlabel('browser')\n",
    "dummy = plt.ylabel('Percentage')"
   ]
  },
  {
   "cell_type": "code",
   "execution_count": 28,
   "metadata": {},
   "outputs": [
    {
     "data": {
      "text/plain": [
       "<matplotlib.axes._subplots.AxesSubplot at 0x7f41d4657080>"
      ]
     },
     "execution_count": 28,
     "metadata": {},
     "output_type": "execute_result"
    },
    {
     "data": {
      "image/png": "[encoded data removed]",
      "text/plain": [
       "<matplotlib.figure.Figure at 0x7f41d47536a0>"
      ]
     },
     "metadata": {},
     "output_type": "display_data"
    }
   ],
   "source": [
    "sns.distplot(data['Dt'])"
   ]
  },
  {
   "cell_type": "code",
   "execution_count": 29,
   "metadata": {},
   "outputs": [
    {
     "data": {
      "text/plain": [
       "<matplotlib.axes._subplots.AxesSubplot at 0x7f41d46d7ac8>"
      ]
     },
     "execution_count": 29,
     "metadata": {},
     "output_type": "execute_result"
    },
    {
     "data": {
      "image/png": "[encoded data removed]",
      "text/plain": [
       "<matplotlib.figure.Figure at 0x7f41d4682748>"
      ]
     },
     "metadata": {},
     "output_type": "display_data"
    }
   ],
   "source": [
    "sns.distplot(test['Dt'])"
   ]
  },
  {
   "cell_type": "code",
   "execution_count": 30,
   "metadata": {},
   "outputs": [
    {
     "name": "stdout",
     "output_type": "stream",
     "text": [
      "Zeros in training sample:  7640\n",
      "Zeros in test sample:  1\n"
     ]
    }
   ],
   "source": [
    "print('Zeros in training sample: ', len(data[data['Dt']==0.0]))\n",
    "print('Zeros in test sample: ', len(test[test['Dt']==0.0]))"
   ]
  },
  {
   "cell_type": "code",
   "execution_count": 31,
   "metadata": {},
   "outputs": [
    {
     "data": {
      "text/plain": [
       "0.9952879581151832"
      ]
     },
     "execution_count": 31,
     "metadata": {},
     "output_type": "execute_result"
    }
   ],
   "source": [
    "data0 = data[data['Dt']==0.0]\n",
    "len(data0[data0['class']==1])/len(data0)"
   ]
  },
  {
   "cell_type": "markdown",
   "metadata": {},
   "source": [
    "#### At the begining of the year, there were 7640 events with Dt=0.0 and 99.53% of them were froud. However, there is only one such case in test sample (interestingly, this case is not fraud in test sample). Therefore, we will treat subsample as Dt=0.0 as anomaly and omit this cases in our analysis."
   ]
  },
  {
   "cell_type": "code",
   "execution_count": 32,
   "metadata": {
    "collapsed": true
   },
   "outputs": [],
   "source": [
    "data = data.drop((data[data['Dt'] == 0.0]).index,0)"
   ]
  },
  {
   "cell_type": "code",
   "execution_count": 33,
   "metadata": {},
   "outputs": [
    {
     "data": {
      "text/plain": [
       "98138"
      ]
     },
     "execution_count": 33,
     "metadata": {},
     "output_type": "execute_result"
    }
   ],
   "source": [
    "len(data)"
   ]
  },
  {
   "cell_type": "code",
   "execution_count": 34,
   "metadata": {},
   "outputs": [
    {
     "data": {
      "text/plain": [
       "<matplotlib.axes._subplots.AxesSubplot at 0x7f41d62c0eb8>"
      ]
     },
     "execution_count": 34,
     "metadata": {},
     "output_type": "execute_result"
    },
    {
     "data": {
      "image/png": "[encoded data removed]",
      "text/plain": [
       "<matplotlib.figure.Figure at 0x7f41d45e13c8>"
      ]
     },
     "metadata": {},
     "output_type": "display_data"
    }
   ],
   "source": [
    "sns.distplot(data['Dt'])"
   ]
  },
  {
   "cell_type": "code",
   "execution_count": 35,
   "metadata": {},
   "outputs": [
    {
     "name": "stdout",
     "output_type": "stream",
     "text": [
      "Frauds in training sample:\n",
      " 4.557867492714341  %\n",
      "Frauds in test sample:\n",
      " 4.574932721577624  %\n"
     ]
    }
   ],
   "source": [
    "print('Frauds in training sample:\\n', len(data[data['class']==1])/len(data)*100, ' %')\n",
    "print('Frauds in test sample:\\n', len(test[test['class']==1])/len(test)*100, ' %')"
   ]
  },
  {
   "cell_type": "markdown",
   "metadata": {},
   "source": [
    "Now, situation becomes almost the same in both training and test sample."
   ]
  },
  {
   "cell_type": "code",
   "execution_count": 36,
   "metadata": {
    "collapsed": true
   },
   "outputs": [],
   "source": [
    "#correlation heatmap of dataset\n",
    "def correlation_heatmap(df):\n",
    "    _ , ax = plt.subplots(figsize =(14, 12))\n",
    "    colormap = sns.diverging_palette(220, 10, as_cmap = True)\n",
    "    \n",
    "    _ = sns.heatmap(\n",
    "        df.corr(), \n",
    "        cmap = colormap,\n",
    "        square=True, \n",
    "        cbar_kws={'shrink':.9 }, \n",
    "        ax=ax,\n",
    "        annot=True, \n",
    "        linewidths=0.1,vmax=1.0, linecolor='white',\n",
    "        annot_kws={'fontsize':12 }\n",
    "    )\n",
    "    \n",
    "    plt.title('Pearson Correlation of Features', y=1.05, size=15)\n",
    "data = data.drop(['diff1','diff2'],axis=1)"
   ]
  },
  {
   "cell_type": "code",
   "execution_count": 37,
   "metadata": {
    "collapsed": true
   },
   "outputs": [],
   "source": [
    "data['occurence'] = 0"
   ]
  },
  {
   "cell_type": "code",
   "execution_count": 38,
   "metadata": {
    "collapsed": true
   },
   "outputs": [],
   "source": [
    "occur = data['device_id'].value_counts()"
   ]
  },
  {
   "cell_type": "code",
   "execution_count": 39,
   "metadata": {},
   "outputs": [
    {
     "data": {
      "text/plain": [
       "PTIOOOWLAKALH    3\n",
       "HVGLMDIRYIEVX    3\n",
       "ZAPVZMOKPESVX    3\n",
       "VRLUJWUSZHOXO    3\n",
       "JGTMORSPMAYBM    3\n",
       "YLDDOCJIVHEJV    3\n",
       "CGLAEGEJMRFXY    3\n",
       "TUTIBAJWVRPPI    3\n",
       "SHLDULVNSTDZB    3\n",
       "LRZJOSJTQEHEX    3\n",
       "Name: device_id, dtype: int64"
      ]
     },
     "execution_count": 39,
     "metadata": {},
     "output_type": "execute_result"
    }
   ],
   "source": [
    "occur.head(10)"
   ]
  },
  {
   "cell_type": "markdown",
   "metadata": {},
   "source": [
    "### We want to make a new column in the table, which shows number of occurence for particular device_id."
   ]
  },
  {
   "cell_type": "code",
   "execution_count": 40,
   "metadata": {
    "collapsed": true
   },
   "outputs": [],
   "source": [
    "data['occurence'] = data.apply(lambda row: occur[row['device_id']], axis=1)"
   ]
  },
  {
   "cell_type": "code",
   "execution_count": 41,
   "metadata": {
    "scrolled": true
   },
   "outputs": [
    {
     "data": {
      "text/html": [
       "<div>\n",
       "<style>\n",
       "    .dataframe thead tr:only-child th {\n",
       "        text-align: right;\n",
       "    }\n",
       "\n",
       "    .dataframe thead th {\n",
       "        text-align: left;\n",
       "    }\n",
       "\n",
       "    .dataframe tbody tr th {\n",
       "        vertical-align: top;\n",
       "    }\n",
       "</style>\n",
       "<table border=\"1\" class=\"dataframe\">\n",
       "  <thead>\n",
       "    <tr style=\"text-align: right;\">\n",
       "      <th></th>\n",
       "      <th>user_id</th>\n",
       "      <th>signup_time</th>\n",
       "      <th>purchase_time</th>\n",
       "      <th>purchase_value</th>\n",
       "      <th>device_id</th>\n",
       "      <th>source</th>\n",
       "      <th>browser</th>\n",
       "      <th>sex</th>\n",
       "      <th>age</th>\n",
       "      <th>ip_address</th>\n",
       "      <th>class</th>\n",
       "      <th>country</th>\n",
       "      <th>Dt</th>\n",
       "      <th>occurence</th>\n",
       "    </tr>\n",
       "  </thead>\n",
       "  <tbody>\n",
       "    <tr>\n",
       "      <th>378</th>\n",
       "      <td>58397</td>\n",
       "      <td>2015-01-01 03:04:18</td>\n",
       "      <td>2015-01-01 15:26:23</td>\n",
       "      <td>37</td>\n",
       "      <td>YICCDRLMZHPSM</td>\n",
       "      <td>1</td>\n",
       "      <td>2</td>\n",
       "      <td>0</td>\n",
       "      <td>30</td>\n",
       "      <td>3.686620e+09</td>\n",
       "      <td>0</td>\n",
       "      <td>1</td>\n",
       "      <td>12.0</td>\n",
       "      <td>1</td>\n",
       "    </tr>\n",
       "    <tr>\n",
       "      <th>713</th>\n",
       "      <td>326217</td>\n",
       "      <td>2015-01-01 13:53:34</td>\n",
       "      <td>2015-01-02 04:45:11</td>\n",
       "      <td>11</td>\n",
       "      <td>KBEAMBIXFHTQG</td>\n",
       "      <td>2</td>\n",
       "      <td>3</td>\n",
       "      <td>1</td>\n",
       "      <td>29</td>\n",
       "      <td>2.068289e+09</td>\n",
       "      <td>0</td>\n",
       "      <td>4</td>\n",
       "      <td>14.0</td>\n",
       "      <td>1</td>\n",
       "    </tr>\n",
       "    <tr>\n",
       "      <th>795</th>\n",
       "      <td>356114</td>\n",
       "      <td>2015-01-01 08:57:35</td>\n",
       "      <td>2015-01-02 08:15:12</td>\n",
       "      <td>36</td>\n",
       "      <td>VWFJUWSKZFWXK</td>\n",
       "      <td>0</td>\n",
       "      <td>0</td>\n",
       "      <td>0</td>\n",
       "      <td>46</td>\n",
       "      <td>4.121968e+09</td>\n",
       "      <td>0</td>\n",
       "      <td>0</td>\n",
       "      <td>23.0</td>\n",
       "      <td>1</td>\n",
       "    </tr>\n",
       "    <tr>\n",
       "      <th>846</th>\n",
       "      <td>64429</td>\n",
       "      <td>2015-01-01 13:04:16</td>\n",
       "      <td>2015-01-02 09:31:49</td>\n",
       "      <td>54</td>\n",
       "      <td>IAZPLBXKSKOGW</td>\n",
       "      <td>0</td>\n",
       "      <td>0</td>\n",
       "      <td>0</td>\n",
       "      <td>25</td>\n",
       "      <td>3.328207e+09</td>\n",
       "      <td>0</td>\n",
       "      <td>3</td>\n",
       "      <td>20.0</td>\n",
       "      <td>1</td>\n",
       "    </tr>\n",
       "    <tr>\n",
       "      <th>847</th>\n",
       "      <td>266142</td>\n",
       "      <td>2015-01-01 02:56:50</td>\n",
       "      <td>2015-01-02 09:42:20</td>\n",
       "      <td>33</td>\n",
       "      <td>VXPGOPOAJWYGS</td>\n",
       "      <td>0</td>\n",
       "      <td>0</td>\n",
       "      <td>0</td>\n",
       "      <td>32</td>\n",
       "      <td>4.943509e+08</td>\n",
       "      <td>0</td>\n",
       "      <td>2</td>\n",
       "      <td>30.0</td>\n",
       "      <td>1</td>\n",
       "    </tr>\n",
       "  </tbody>\n",
       "</table>\n",
       "</div>"
      ],
      "text/plain": [
       "     user_id          signup_time        purchase_time  purchase_value  \\\n",
       "378    58397  2015-01-01 03:04:18  2015-01-01 15:26:23              37   \n",
       "713   326217  2015-01-01 13:53:34  2015-01-02 04:45:11              11   \n",
       "795   356114  2015-01-01 08:57:35  2015-01-02 08:15:12              36   \n",
       "846    64429  2015-01-01 13:04:16  2015-01-02 09:31:49              54   \n",
       "847   266142  2015-01-01 02:56:50  2015-01-02 09:42:20              33   \n",
       "\n",
       "         device_id source browser sex  age    ip_address  class  country  \\\n",
       "378  YICCDRLMZHPSM      1       2   0   30  3.686620e+09      0        1   \n",
       "713  KBEAMBIXFHTQG      2       3   1   29  2.068289e+09      0        4   \n",
       "795  VWFJUWSKZFWXK      0       0   0   46  4.121968e+09      0        0   \n",
       "846  IAZPLBXKSKOGW      0       0   0   25  3.328207e+09      0        3   \n",
       "847  VXPGOPOAJWYGS      0       0   0   32  4.943509e+08      0        2   \n",
       "\n",
       "       Dt  occurence  \n",
       "378  12.0          1  \n",
       "713  14.0          1  \n",
       "795  23.0          1  \n",
       "846  20.0          1  \n",
       "847  30.0          1  "
      ]
     },
     "execution_count": 41,
     "metadata": {},
     "output_type": "execute_result"
    }
   ],
   "source": [
    "data.head(5)"
   ]
  },
  {
   "cell_type": "code",
   "execution_count": 42,
   "metadata": {},
   "outputs": [
    {
     "data": {
      "text/plain": [
       "1    92796\n",
       "2     5228\n",
       "3      114\n",
       "Name: occurence, dtype: int64"
      ]
     },
     "execution_count": 42,
     "metadata": {},
     "output_type": "execute_result"
    }
   ],
   "source": [
    "data['occurence'].value_counts()"
   ]
  },
  {
   "cell_type": "code",
   "execution_count": 43,
   "metadata": {},
   "outputs": [
    {
     "data": {
      "image/png": "[encoded data removed]",
      "text/plain": [
       "<matplotlib.figure.Figure at 0x7f41d6158160>"
      ]
     },
     "metadata": {},
     "output_type": "display_data"
    }
   ],
   "source": [
    "correlation_heatmap(data)"
   ]
  },
  {
   "cell_type": "code",
   "execution_count": 44,
   "metadata": {},
   "outputs": [
    {
     "data": {
      "text/plain": [
       "PTIOOOWLAKALH    3\n",
       "HVGLMDIRYIEVX    3\n",
       "ZAPVZMOKPESVX    3\n",
       "VRLUJWUSZHOXO    3\n",
       "JGTMORSPMAYBM    3\n",
       "YLDDOCJIVHEJV    3\n",
       "CGLAEGEJMRFXY    3\n",
       "TUTIBAJWVRPPI    3\n",
       "SHLDULVNSTDZB    3\n",
       "LRZJOSJTQEHEX    3\n",
       "Name: device_id, dtype: int64"
      ]
     },
     "execution_count": 44,
     "metadata": {},
     "output_type": "execute_result"
    }
   ],
   "source": [
    "occur.head(10)"
   ]
  },
  {
   "cell_type": "code",
   "execution_count": 45,
   "metadata": {},
   "outputs": [
    {
     "data": {
      "text/html": [
       "<div>\n",
       "<style>\n",
       "    .dataframe thead tr:only-child th {\n",
       "        text-align: right;\n",
       "    }\n",
       "\n",
       "    .dataframe thead th {\n",
       "        text-align: left;\n",
       "    }\n",
       "\n",
       "    .dataframe tbody tr th {\n",
       "        vertical-align: top;\n",
       "    }\n",
       "</style>\n",
       "<table border=\"1\" class=\"dataframe\">\n",
       "  <thead>\n",
       "    <tr style=\"text-align: right;\">\n",
       "      <th></th>\n",
       "      <th>user_id</th>\n",
       "      <th>signup_time</th>\n",
       "      <th>purchase_time</th>\n",
       "      <th>purchase_value</th>\n",
       "      <th>device_id</th>\n",
       "      <th>source</th>\n",
       "      <th>browser</th>\n",
       "      <th>sex</th>\n",
       "      <th>age</th>\n",
       "      <th>ip_address</th>\n",
       "      <th>class</th>\n",
       "      <th>country</th>\n",
       "      <th>Dt</th>\n",
       "      <th>occurence</th>\n",
       "    </tr>\n",
       "  </thead>\n",
       "  <tbody>\n",
       "    <tr>\n",
       "      <th>19519</th>\n",
       "      <td>4715</td>\n",
       "      <td>2015-02-20 07:48:04</td>\n",
       "      <td>2015-03-09 20:24:39</td>\n",
       "      <td>90</td>\n",
       "      <td>TUTIBAJWVRPPI</td>\n",
       "      <td>1</td>\n",
       "      <td>0</td>\n",
       "      <td>0</td>\n",
       "      <td>39</td>\n",
       "      <td>2.708376e+09</td>\n",
       "      <td>0</td>\n",
       "      <td>35</td>\n",
       "      <td>420.0</td>\n",
       "      <td>3</td>\n",
       "    </tr>\n",
       "    <tr>\n",
       "      <th>21950</th>\n",
       "      <td>116289</td>\n",
       "      <td>2015-02-21 01:43:16</td>\n",
       "      <td>2015-03-16 05:23:39</td>\n",
       "      <td>26</td>\n",
       "      <td>TUTIBAJWVRPPI</td>\n",
       "      <td>0</td>\n",
       "      <td>0</td>\n",
       "      <td>0</td>\n",
       "      <td>22</td>\n",
       "      <td>8.437374e+08</td>\n",
       "      <td>0</td>\n",
       "      <td>2</td>\n",
       "      <td>555.0</td>\n",
       "      <td>3</td>\n",
       "    </tr>\n",
       "    <tr>\n",
       "      <th>78028</th>\n",
       "      <td>282927</td>\n",
       "      <td>2015-05-30 05:23:45</td>\n",
       "      <td>2015-06-22 08:44:06</td>\n",
       "      <td>65</td>\n",
       "      <td>TUTIBAJWVRPPI</td>\n",
       "      <td>0</td>\n",
       "      <td>0</td>\n",
       "      <td>0</td>\n",
       "      <td>41</td>\n",
       "      <td>1.685548e+09</td>\n",
       "      <td>0</td>\n",
       "      <td>0</td>\n",
       "      <td>555.0</td>\n",
       "      <td>3</td>\n",
       "    </tr>\n",
       "  </tbody>\n",
       "</table>\n",
       "</div>"
      ],
      "text/plain": [
       "       user_id          signup_time        purchase_time  purchase_value  \\\n",
       "19519     4715  2015-02-20 07:48:04  2015-03-09 20:24:39              90   \n",
       "21950   116289  2015-02-21 01:43:16  2015-03-16 05:23:39              26   \n",
       "78028   282927  2015-05-30 05:23:45  2015-06-22 08:44:06              65   \n",
       "\n",
       "           device_id source browser sex  age    ip_address  class  country  \\\n",
       "19519  TUTIBAJWVRPPI      1       0   0   39  2.708376e+09      0       35   \n",
       "21950  TUTIBAJWVRPPI      0       0   0   22  8.437374e+08      0        2   \n",
       "78028  TUTIBAJWVRPPI      0       0   0   41  1.685548e+09      0        0   \n",
       "\n",
       "          Dt  occurence  \n",
       "19519  420.0          3  \n",
       "21950  555.0          3  \n",
       "78028  555.0          3  "
      ]
     },
     "execution_count": 45,
     "metadata": {},
     "output_type": "execute_result"
    }
   ],
   "source": [
    "data[data['device_id']== 'TUTIBAJWVRPPI']"
   ]
  },
  {
   "cell_type": "code",
   "execution_count": 46,
   "metadata": {},
   "outputs": [
    {
     "name": "stdout",
     "output_type": "stream",
     "text": [
      "class          0     1\n",
      "occurence             \n",
      "1          89541  3255\n",
      "2           4032  1196\n",
      "3             92    22\n"
     ]
    },
    {
     "data": {
      "image/png": "[encoded data removed]",
      "text/plain": [
       "<matplotlib.figure.Figure at 0x7f41d60ae780>"
      ]
     },
     "metadata": {},
     "output_type": "display_data"
    }
   ],
   "source": [
    "cab = pd.crosstab(data['occurence'], data['class'])\n",
    "print(cab)\n",
    "dummy = cab.div(cab.sum(1).astype(float), axis=0).plot(kind=\"bar\", stacked=True)\n",
    "dummy = plt.xlabel('occurence')\n",
    "dummy = plt.ylabel('Percentage')"
   ]
  },
  {
   "cell_type": "markdown",
   "metadata": {},
   "source": [
    "### This is the only correlation observed up to now: if occurence > 1 probability for froud is more than 8 times higher. To additionaly prove this, we plot the folowing histrograms:"
   ]
  },
  {
   "cell_type": "code",
   "execution_count": 47,
   "metadata": {
    "collapsed": true
   },
   "outputs": [],
   "source": [
    "fraud = data[data['class']==1]\n",
    "nofraud = data[data['class']==0]"
   ]
  },
  {
   "cell_type": "code",
   "execution_count": 53,
   "metadata": {
    "scrolled": true
   },
   "outputs": [
    {
     "data": {
      "text/plain": [
       "<matplotlib.axes._subplots.AxesSubplot at 0x7f41d462eb38>"
      ]
     },
     "execution_count": 53,
     "metadata": {},
     "output_type": "execute_result"
    },
    {
     "data": {
      "image/png": "[encoded data removed]",
      "text/plain": [
       "<matplotlib.figure.Figure at 0x7f41d465f0f0>"
      ]
     },
     "metadata": {},
     "output_type": "display_data"
    }
   ],
   "source": [
    "sns.distplot(fraud[\"purchase_value\"] , color=\"skyblue\", label=\"Fraud\")\n",
    "sns.distplot(nofraud[\"purchase_value\"] , color=\"red\", label=\"No Fraud\")"
   ]
  },
  {
   "cell_type": "markdown",
   "metadata": {},
   "source": [
    "The same distributions for **Purchase value**. Nothing interesting here."
   ]
  },
  {
   "cell_type": "code",
   "execution_count": 61,
   "metadata": {},
   "outputs": [
    {
     "data": {
      "text/plain": [
       "<matplotlib.axes._subplots.AxesSubplot at 0x7f41bfeee5f8>"
      ]
     },
     "execution_count": 61,
     "metadata": {},
     "output_type": "execute_result"
    },
    {
     "data": {
      "image/png": "[encoded data removed]",
      "text/plain": [
       "<matplotlib.figure.Figure at 0x7f41bff28828>"
      ]
     },
     "metadata": {},
     "output_type": "display_data"
    }
   ],
   "source": [
    "sns.distplot(fraud[\"age\"] , color=\"skyblue\", label=\"Fraud\")\n",
    "sns.distplot(nofraud[\"age\"] , color=\"red\", label=\"No Fraud\")"
   ]
  },
  {
   "cell_type": "markdown",
   "metadata": {},
   "source": [
    "The same distributions for **Age**. Nothing interesting here too."
   ]
  },
  {
   "cell_type": "code",
   "execution_count": 63,
   "metadata": {},
   "outputs": [
    {
     "data": {
      "text/plain": [
       "<matplotlib.axes._subplots.AxesSubplot at 0x7f41bfc685c0>"
      ]
     },
     "execution_count": 63,
     "metadata": {},
     "output_type": "execute_result"
    },
    {
     "data": {
      "image/png": "[encoded data removed]",
      "text/plain": [
       "<matplotlib.figure.Figure at 0x7f41bfcfe6d8>"
      ]
     },
     "metadata": {},
     "output_type": "display_data"
    }
   ],
   "source": [
    "sns.distplot(fraud[\"Dt\"] , color=\"skyblue\", label=\"Fraud\")\n",
    "sns.distplot(nofraud[\"Dt\"] , color=\"red\", label=\"No Fraud\")"
   ]
  },
  {
   "cell_type": "markdown",
   "metadata": {},
   "source": [
    "The same distributions for **Dt**. Nothing interesting here too."
   ]
  },
  {
   "cell_type": "code",
   "execution_count": 65,
   "metadata": {},
   "outputs": [
    {
     "name": "stdout",
     "output_type": "stream",
     "text": [
      "<class 'pandas.core.frame.DataFrame'>\n",
      "Int64Index: 98138 entries, 378 to 105777\n",
      "Data columns (total 14 columns):\n",
      "user_id           98138 non-null int64\n",
      "signup_time       98138 non-null object\n",
      "purchase_time     98138 non-null object\n",
      "purchase_value    98138 non-null int64\n",
      "device_id         98138 non-null object\n",
      "source            98138 non-null object\n",
      "browser           98138 non-null object\n",
      "sex               98138 non-null object\n",
      "age               98138 non-null int64\n",
      "ip_address        98138 non-null float64\n",
      "class             98138 non-null int64\n",
      "country           98138 non-null int64\n",
      "Dt                98138 non-null float64\n",
      "occurence         98138 non-null int64\n",
      "dtypes: float64(2), int64(6), object(6)\n",
      "memory usage: 11.2+ MB\n"
     ]
    }
   ],
   "source": [
    "data.info()"
   ]
  },
  {
   "cell_type": "code",
   "execution_count": 72,
   "metadata": {},
   "outputs": [
    {
     "name": "stderr",
     "output_type": "stream",
     "text": [
      "/home/marko/anaconda3/lib/python3.6/site-packages/ipykernel_launcher.py:1: SettingWithCopyWarning: \n",
      "A value is trying to be set on a copy of a slice from a DataFrame.\n",
      "Try using .loc[row_indexer,col_indexer] = value instead\n",
      "\n",
      "See the caveats in the documentation: http://pandas.pydata.org/pandas-docs/stable/indexing.html#indexing-view-versus-copy\n",
      "  \"\"\"Entry point for launching an IPython kernel.\n",
      "/home/marko/anaconda3/lib/python3.6/site-packages/ipykernel_launcher.py:2: SettingWithCopyWarning: \n",
      "A value is trying to be set on a copy of a slice from a DataFrame.\n",
      "Try using .loc[row_indexer,col_indexer] = value instead\n",
      "\n",
      "See the caveats in the documentation: http://pandas.pydata.org/pandas-docs/stable/indexing.html#indexing-view-versus-copy\n",
      "  \n"
     ]
    }
   ],
   "source": [
    "fraud['browser'] = fraud['browser'].astype(np.int64)\n",
    "nofraud['browser'] = nofraud['browser'].astype(np.int64)"
   ]
  },
  {
   "cell_type": "code",
   "execution_count": 73,
   "metadata": {},
   "outputs": [
    {
     "data": {
      "text/plain": [
       "<matplotlib.axes._subplots.AxesSubplot at 0x7f41bfccf748>"
      ]
     },
     "execution_count": 73,
     "metadata": {},
     "output_type": "execute_result"
    },
    {
     "data": {
      "image/png": "[encoded data removed]",
      "text/plain": [
       "<matplotlib.figure.Figure at 0x7f41d4472748>"
      ]
     },
     "metadata": {},
     "output_type": "display_data"
    }
   ],
   "source": [
    "sns.distplot(fraud[\"browser\"] , color=\"skyblue\", label=\"Fraud\")\n",
    "sns.distplot(nofraud[\"browser\"] , color=\"red\", label=\"No Fraud\")"
   ]
  },
  {
   "cell_type": "code",
   "execution_count": null,
   "metadata": {
    "collapsed": true
   },
   "outputs": [],
   "source": []
  }
 ],
 "metadata": {
  "kernelspec": {
   "display_name": "Python 3",
   "language": "python",
   "name": "python3"
  },
  "language_info": {
   "codemirror_mode": {
    "name": "ipython",
    "version": 3
   },
   "file_extension": ".py",
   "mimetype": "text/x-python",
   "name": "python",
   "nbconvert_exporter": "python",
   "pygments_lexer": "ipython3",
   "version": "3.6.3"
  }
 },
 "nbformat": 4,
 "nbformat_minor": 2
}
